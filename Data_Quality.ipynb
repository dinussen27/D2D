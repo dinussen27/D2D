{
 "cells": [
  {
   "cell_type": "code",
   "execution_count": 84,
   "metadata": {},
   "outputs": [],
   "source": [
    "from No_sync.Frost_api import client_id, client_secret\n",
    "import requests\n",
    "import pandas as pd\n",
    "from datetime import datetime, timedelta"
   ]
  },
  {
   "cell_type": "code",
   "execution_count": 85,
   "metadata": {},
   "outputs": [],
   "source": [
    "# SN65320, SN65310, SN65370 \n",
    "# Closest station gave error, so I used the second closest station\n",
    "# air_temperature, precipitation_amount, wind_speed, relative_humidity"
   ]
  },
  {
   "cell_type": "code",
   "execution_count": 86,
   "metadata": {},
   "outputs": [],
   "source": [
    "# Define the endpoint and parameters\n",
    "endpoint = 'https://frost.met.no/observations/v0.jsonld'\n",
    "\n",
    "# Calculate the date range for the last year\n",
    "end_date = datetime.now()\n",
    "start_date = end_date - timedelta(days=365)\n",
    "\n",
    "# Format the date range as a string\n",
    "date_range = start_date.strftime('%Y-%m-%d') + '/' + end_date.strftime('%Y-%m-%d')\n",
    "\n",
    "parameters = {\n",
    "    'sources': 'SN65370, SN65310',\n",
    "    'elements': 'mean(air_temperature P1D),sum(precipitation_amount P1D),mean(wind_speed P1D),mean(relative_humidity P1D)',\n",
    "    'referencetime': date_range,\n",
    "}\n",
    "\n",
    "# Issue an HTTP GET request\n",
    "r = requests.get(endpoint, params=parameters, auth=(client_id, ''))\n",
    "\n",
    "# Extract JSON data\n",
    "json = r.json()\n"
   ]
  },
  {
   "cell_type": "code",
   "execution_count": 87,
   "metadata": {},
   "outputs": [
    {
     "name": "stdout",
     "output_type": "stream",
     "text": [
      "Data retrieved from frost.met.no!\n"
     ]
    }
   ],
   "source": [
    "# Check if the request worked, print out any errors\n",
    "if r.status_code == 200:\n",
    "    data = json['data']\n",
    "    print('Data retrieved from frost.met.no!')\n",
    "else:\n",
    "    print('Error! Returned status code %s' % r.status_code)\n",
    "    print('Message: %s' % json['error']['message'])\n",
    "    print('Reason: %s' % json['error']['reason'])"
   ]
  },
  {
   "cell_type": "code",
   "execution_count": 88,
   "metadata": {},
   "outputs": [],
   "source": [
    "df_total = pd.DataFrame()\n",
    "for i in range(len(data)):\n",
    "    row = pd.DataFrame(data[i]['observations'])\n",
    "    row['referenceTime'] = data[i]['referenceTime']\n",
    "    row['sourceId'] = data[i]['sourceId']\n",
    "\n",
    "    df_total = pd.concat([row, df_total])"
   ]
  },
  {
   "cell_type": "code",
   "execution_count": 89,
   "metadata": {},
   "outputs": [],
   "source": [
    "# These additional columns will be kept\n",
    "columns = ['sourceId','referenceTime','elementId','value','unit','timeOffset']\n",
    "df = df_total[columns].copy()\n",
    "# Convert the time value to something Python understands\n",
    "df['referenceTime'] = pd.to_datetime(df['referenceTime'])"
   ]
  },
  {
   "cell_type": "code",
   "execution_count": 90,
   "metadata": {},
   "outputs": [
    {
     "data": {
      "text/html": [
       "<div>\n",
       "<style scoped>\n",
       "    .dataframe tbody tr th:only-of-type {\n",
       "        vertical-align: middle;\n",
       "    }\n",
       "\n",
       "    .dataframe tbody tr th {\n",
       "        vertical-align: top;\n",
       "    }\n",
       "\n",
       "    .dataframe thead th {\n",
       "        text-align: right;\n",
       "    }\n",
       "</style>\n",
       "<table border=\"1\" class=\"dataframe\">\n",
       "  <thead>\n",
       "    <tr style=\"text-align: right;\">\n",
       "      <th></th>\n",
       "      <th>sourceId</th>\n",
       "      <th>referenceTime</th>\n",
       "      <th>elementId</th>\n",
       "      <th>value</th>\n",
       "      <th>unit</th>\n",
       "      <th>timeOffset</th>\n",
       "    </tr>\n",
       "  </thead>\n",
       "  <tbody>\n",
       "    <tr>\n",
       "      <th>0</th>\n",
       "      <td>SN65370:0</td>\n",
       "      <td>2023-10-12 00:00:00+00:00</td>\n",
       "      <td>sum(precipitation_amount P1D)</td>\n",
       "      <td>16.6</td>\n",
       "      <td>mm</td>\n",
       "      <td>PT6H</td>\n",
       "    </tr>\n",
       "    <tr>\n",
       "      <th>0</th>\n",
       "      <td>SN65370:0</td>\n",
       "      <td>2023-10-11 00:00:00+00:00</td>\n",
       "      <td>sum(precipitation_amount P1D)</td>\n",
       "      <td>16.5</td>\n",
       "      <td>mm</td>\n",
       "      <td>PT6H</td>\n",
       "    </tr>\n",
       "    <tr>\n",
       "      <th>0</th>\n",
       "      <td>SN65370:0</td>\n",
       "      <td>2023-10-10 00:00:00+00:00</td>\n",
       "      <td>sum(precipitation_amount P1D)</td>\n",
       "      <td>4.7</td>\n",
       "      <td>mm</td>\n",
       "      <td>PT6H</td>\n",
       "    </tr>\n",
       "    <tr>\n",
       "      <th>0</th>\n",
       "      <td>SN65370:0</td>\n",
       "      <td>2023-10-09 00:00:00+00:00</td>\n",
       "      <td>sum(precipitation_amount P1D)</td>\n",
       "      <td>6.8</td>\n",
       "      <td>mm</td>\n",
       "      <td>PT6H</td>\n",
       "    </tr>\n",
       "    <tr>\n",
       "      <th>0</th>\n",
       "      <td>SN65370:0</td>\n",
       "      <td>2023-10-08 00:00:00+00:00</td>\n",
       "      <td>sum(precipitation_amount P1D)</td>\n",
       "      <td>23.7</td>\n",
       "      <td>mm</td>\n",
       "      <td>PT6H</td>\n",
       "    </tr>\n",
       "    <tr>\n",
       "      <th>...</th>\n",
       "      <td>...</td>\n",
       "      <td>...</td>\n",
       "      <td>...</td>\n",
       "      <td>...</td>\n",
       "      <td>...</td>\n",
       "      <td>...</td>\n",
       "    </tr>\n",
       "    <tr>\n",
       "      <th>3</th>\n",
       "      <td>SN65310:0</td>\n",
       "      <td>2022-10-14 00:00:00+00:00</td>\n",
       "      <td>mean(relative_humidity P1D)</td>\n",
       "      <td>80.0</td>\n",
       "      <td>percent</td>\n",
       "      <td>PT0H</td>\n",
       "    </tr>\n",
       "    <tr>\n",
       "      <th>0</th>\n",
       "      <td>SN65310:0</td>\n",
       "      <td>2022-10-13 00:00:00+00:00</td>\n",
       "      <td>mean(air_temperature P1D)</td>\n",
       "      <td>9.3</td>\n",
       "      <td>degC</td>\n",
       "      <td>PT0H</td>\n",
       "    </tr>\n",
       "    <tr>\n",
       "      <th>1</th>\n",
       "      <td>SN65310:0</td>\n",
       "      <td>2022-10-13 00:00:00+00:00</td>\n",
       "      <td>mean(air_temperature P1D)</td>\n",
       "      <td>10.1</td>\n",
       "      <td>degC</td>\n",
       "      <td>PT6H</td>\n",
       "    </tr>\n",
       "    <tr>\n",
       "      <th>2</th>\n",
       "      <td>SN65310:0</td>\n",
       "      <td>2022-10-13 00:00:00+00:00</td>\n",
       "      <td>mean(wind_speed P1D)</td>\n",
       "      <td>6.2</td>\n",
       "      <td>m/s</td>\n",
       "      <td>PT0H</td>\n",
       "    </tr>\n",
       "    <tr>\n",
       "      <th>3</th>\n",
       "      <td>SN65310:0</td>\n",
       "      <td>2022-10-13 00:00:00+00:00</td>\n",
       "      <td>mean(relative_humidity P1D)</td>\n",
       "      <td>81.0</td>\n",
       "      <td>percent</td>\n",
       "      <td>PT0H</td>\n",
       "    </tr>\n",
       "  </tbody>\n",
       "</table>\n",
       "<p>1825 rows × 6 columns</p>\n",
       "</div>"
      ],
      "text/plain": [
       "     sourceId             referenceTime                      elementId  value  \\\n",
       "0   SN65370:0 2023-10-12 00:00:00+00:00  sum(precipitation_amount P1D)   16.6   \n",
       "0   SN65370:0 2023-10-11 00:00:00+00:00  sum(precipitation_amount P1D)   16.5   \n",
       "0   SN65370:0 2023-10-10 00:00:00+00:00  sum(precipitation_amount P1D)    4.7   \n",
       "0   SN65370:0 2023-10-09 00:00:00+00:00  sum(precipitation_amount P1D)    6.8   \n",
       "0   SN65370:0 2023-10-08 00:00:00+00:00  sum(precipitation_amount P1D)   23.7   \n",
       "..        ...                       ...                            ...    ...   \n",
       "3   SN65310:0 2022-10-14 00:00:00+00:00    mean(relative_humidity P1D)   80.0   \n",
       "0   SN65310:0 2022-10-13 00:00:00+00:00      mean(air_temperature P1D)    9.3   \n",
       "1   SN65310:0 2022-10-13 00:00:00+00:00      mean(air_temperature P1D)   10.1   \n",
       "2   SN65310:0 2022-10-13 00:00:00+00:00           mean(wind_speed P1D)    6.2   \n",
       "3   SN65310:0 2022-10-13 00:00:00+00:00    mean(relative_humidity P1D)   81.0   \n",
       "\n",
       "       unit timeOffset  \n",
       "0        mm       PT6H  \n",
       "0        mm       PT6H  \n",
       "0        mm       PT6H  \n",
       "0        mm       PT6H  \n",
       "0        mm       PT6H  \n",
       "..      ...        ...  \n",
       "3   percent       PT0H  \n",
       "0      degC       PT0H  \n",
       "1      degC       PT6H  \n",
       "2       m/s       PT0H  \n",
       "3   percent       PT0H  \n",
       "\n",
       "[1825 rows x 6 columns]"
      ]
     },
     "execution_count": 90,
     "metadata": {},
     "output_type": "execute_result"
    }
   ],
   "source": [
    "df"
   ]
  },
  {
   "cell_type": "code",
   "execution_count": 91,
   "metadata": {},
   "outputs": [
    {
     "data": {
      "text/plain": [
       "array(['sum(precipitation_amount P1D)', 'mean(air_temperature P1D)',\n",
       "       'mean(wind_speed P1D)', 'mean(relative_humidity P1D)'],\n",
       "      dtype=object)"
      ]
     },
     "execution_count": 91,
     "metadata": {},
     "output_type": "execute_result"
    }
   ],
   "source": [
    "#get unique values in elementId\n",
    "df['elementId'].unique()"
   ]
  },
  {
   "cell_type": "code",
   "execution_count": 92,
   "metadata": {},
   "outputs": [],
   "source": [
    "# Convert all column names to lower case\n",
    "df.columns = df.columns.str.lower()"
   ]
  },
  {
   "cell_type": "code",
   "execution_count": 93,
   "metadata": {},
   "outputs": [],
   "source": [
    "# make df to csv\n",
    "df.to_csv('Data/weather.csv', index=False)"
   ]
  },
  {
   "cell_type": "code",
   "execution_count": 77,
   "metadata": {},
   "outputs": [],
   "source": [
    "# Connecting to Cassandra\n",
    "from cassandra.cluster import Cluster\n",
    "cluster = Cluster(['localhost'], port=9042)\n",
    "session = cluster.connect()"
   ]
  },
  {
   "cell_type": "code",
   "execution_count": 78,
   "metadata": {},
   "outputs": [
    {
     "data": {
      "text/plain": [
       "<cassandra.cluster.ResultSet at 0x1fdda7012d0>"
      ]
     },
     "execution_count": 78,
     "metadata": {},
     "output_type": "execute_result"
    }
   ],
   "source": [
    "# Creating a keyspace\n",
    "session.execute(\"CREATE KEYSPACE IF NOT EXISTS fish_keyspace WITH REPLICATION = { 'class' : 'SimpleStrategy', 'replication_factor' : 1 };\")"
   ]
  },
  {
   "cell_type": "code",
   "execution_count": 79,
   "metadata": {},
   "outputs": [],
   "source": [
    "# set keyspace\n",
    "session.set_keyspace('fish_keyspace')"
   ]
  },
  {
   "cell_type": "code",
   "execution_count": 80,
   "metadata": {},
   "outputs": [
    {
     "data": {
      "text/plain": [
       "<cassandra.cluster.ResultSet at 0x1fdd9e25690>"
      ]
     },
     "execution_count": 80,
     "metadata": {},
     "output_type": "execute_result"
    }
   ],
   "source": [
    "# Drop the table if it already exists\n",
    "session.execute(\"DROP TABLE IF EXISTS fish_keyspace.weather_table;\") \n",
    "\n",
    "# Create a new table with primary keys\n",
    "session.execute(\"\"\"\n",
    "   CREATE TABLE IF NOT EXISTS weather_table (\n",
    "    sourceid TEXT,\n",
    "    elementid TEXT,\n",
    "    value DOUBLE,\n",
    "    unit TEXT,\n",
    "    timeoffset TEXT,\n",
    "    referencetime DATE,\n",
    "    PRIMARY KEY (elementid, timeoffset, referencetime)\n",
    ");\n",
    "\"\"\")\n"
   ]
  },
  {
   "cell_type": "code",
   "execution_count": 81,
   "metadata": {},
   "outputs": [],
   "source": [
    "import os\n",
    "os.environ[\"JAVA_HOME\"] = \"C:\\Program Files\\Java\\jdk-20\"\n",
    "# If you are using environments in Python, you can set the environment variables like this:\n",
    "os.environ[\"PYSPARK_PYTHON\"] = \"python\" # or similar to \"/Users/kristian/miniforge3/envs/tf_M1/bin/python\"\n",
    "#os.environ[\"PYSPARK_DRIVER_PYTHON\"] = \"python\" # or similar to \"/Users/kristian/miniforge3/envs/tf_M1/bin/python\"\n",
    "# Set the Hadoop version to the one you are using, e.g., none:\n",
    "#os.environ[\"PYSPARK_HADOOP_VERSION\"] = \"without\""
   ]
  },
  {
   "cell_type": "code",
   "execution_count": 82,
   "metadata": {},
   "outputs": [],
   "source": [
    "from pyspark.sql import SparkSession\n",
    "spark = SparkSession.builder.appName('SparkCassandraApp').\\\n",
    "    config('spark.jars.packages', 'com.datastax.spark:spark-cassandra-connector_2.12:3.4.1').\\\n",
    "    config('spark.cassandra.connection.host', 'localhost').\\\n",
    "    config('spark.sql.extensions', 'com.datastax.spark.connector.CassandraSparkExtensions').\\\n",
    "    config('spark.sql.catalog.mycatalog', 'com.datastax.spark.connector.datasource.CassandraCatalog').\\\n",
    "    config('spark.cassandra.connection.port', '9042').getOrCreate()\n",
    "# Some warnings are to be expected."
   ]
  },
  {
   "cell_type": "code",
   "execution_count": 94,
   "metadata": {},
   "outputs": [],
   "source": [
    "# Read the data from the csv files\n",
    "weather_data = spark.read.csv('Data/weather.csv', header=True, inferSchema=True)"
   ]
  },
  {
   "cell_type": "code",
   "execution_count": 95,
   "metadata": {},
   "outputs": [],
   "source": [
    "# Write the data to Cassandra\n",
    "keyspace = \"fish_keyspace\"\n",
    "table = \"weather_table\"\n",
    "\n",
    "weather_data.write \\\n",
    "    .format(\"org.apache.spark.sql.cassandra\") \\\n",
    "    .option(\"table\", table) \\\n",
    "    .option(\"keyspace\", keyspace) \\\n",
    "    .mode(\"append\").save()"
   ]
  },
  {
   "cell_type": "code",
   "execution_count": 96,
   "metadata": {},
   "outputs": [
    {
     "name": "stdout",
     "output_type": "stream",
     "text": [
      "+--------------------+----------+-------------+---------+----+-----+\n",
      "|           elementid|timeoffset|referencetime| sourceid|unit|value|\n",
      "+--------------------+----------+-------------+---------+----+-----+\n",
      "|mean(wind_speed P1D)|      PT0H|   2022-10-13|SN65310:0| m/s|  6.2|\n",
      "|mean(wind_speed P1D)|      PT0H|   2022-10-14|SN65310:0| m/s|  5.5|\n",
      "|mean(wind_speed P1D)|      PT0H|   2022-10-15|SN65310:0| m/s|  7.7|\n",
      "|mean(wind_speed P1D)|      PT0H|   2022-10-16|SN65310:0| m/s|  3.9|\n",
      "|mean(wind_speed P1D)|      PT0H|   2022-10-17|SN65310:0| m/s|  5.3|\n",
      "|mean(wind_speed P1D)|      PT0H|   2022-10-18|SN65310:0| m/s|  7.2|\n",
      "|mean(wind_speed P1D)|      PT0H|   2022-10-19|SN65310:0| m/s| 10.0|\n",
      "|mean(wind_speed P1D)|      PT0H|   2022-10-20|SN65310:0| m/s|  4.3|\n",
      "|mean(wind_speed P1D)|      PT0H|   2022-10-21|SN65310:0| m/s|  4.6|\n",
      "|mean(wind_speed P1D)|      PT0H|   2022-10-22|SN65310:0| m/s|  5.2|\n",
      "|mean(wind_speed P1D)|      PT0H|   2022-10-23|SN65310:0| m/s|  5.8|\n",
      "|mean(wind_speed P1D)|      PT0H|   2022-10-24|SN65310:0| m/s|  3.6|\n",
      "|mean(wind_speed P1D)|      PT0H|   2022-10-25|SN65310:0| m/s|  3.8|\n",
      "|mean(wind_speed P1D)|      PT0H|   2022-10-26|SN65310:0| m/s|  6.0|\n",
      "|mean(wind_speed P1D)|      PT0H|   2022-10-27|SN65310:0| m/s|  7.4|\n",
      "|mean(wind_speed P1D)|      PT0H|   2022-10-28|SN65310:0| m/s|  7.4|\n",
      "|mean(wind_speed P1D)|      PT0H|   2022-10-29|SN65310:0| m/s|  6.9|\n",
      "|mean(wind_speed P1D)|      PT0H|   2022-10-30|SN65310:0| m/s|  3.7|\n",
      "|mean(wind_speed P1D)|      PT0H|   2022-10-31|SN65310:0| m/s|  4.3|\n",
      "|mean(wind_speed P1D)|      PT0H|   2022-11-01|SN65310:0| m/s|  4.9|\n",
      "+--------------------+----------+-------------+---------+----+-----+\n",
      "only showing top 20 rows\n",
      "\n"
     ]
    }
   ],
   "source": [
    "# Read from Cassandra - fish_table_year\n",
    "df_weather = spark.read.format(\"org.apache.spark.sql.cassandra\").options(table=\"weather_table\", keyspace=\"fish_keyspace\").load()\n",
    "df_weather.show()"
   ]
  },
  {
   "cell_type": "code",
   "execution_count": null,
   "metadata": {},
   "outputs": [],
   "source": []
  }
 ],
 "metadata": {
  "kernelspec": {
   "display_name": "IND320",
   "language": "python",
   "name": "python3"
  },
  "language_info": {
   "codemirror_mode": {
    "name": "ipython",
    "version": 3
   },
   "file_extension": ".py",
   "mimetype": "text/x-python",
   "name": "python",
   "nbconvert_exporter": "python",
   "pygments_lexer": "ipython3",
   "version": "3.11.4"
  }
 },
 "nbformat": 4,
 "nbformat_minor": 2
}
