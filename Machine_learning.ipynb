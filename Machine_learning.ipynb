{
 "cells": [
  {
   "cell_type": "code",
   "execution_count": 187,
   "metadata": {},
   "outputs": [],
   "source": [
    "import os\n",
    "os.environ[\"JAVA_HOME\"] = \"C:\\Program Files\\Java\\jdk-20\"\n",
    "# If you are using environments in Python, you can set the environment variables like this:\n",
    "os.environ[\"PYSPARK_PYTHON\"] = \"python\" # or similar to \"/Users/kristian/miniforge3/envs/tf_M1/bin/python\"\n",
    "#os.environ[\"PYSPARK_DRIVER_PYTHON\"] = \"python\" # or similar to \"/Users/kristian/miniforge3/envs/tf_M1/bin/python\"\n",
    "# Set the Hadoop version to the one you are using, e.g., none:\n",
    "#os.environ[\"PYSPARK_HADOOP_VERSION\"] = \"without\""
   ]
  },
  {
   "cell_type": "code",
   "execution_count": 188,
   "metadata": {},
   "outputs": [],
   "source": [
    "from pyspark.sql import SparkSession\n",
    "spark = SparkSession.builder.appName('SparkCassandraApp').\\\n",
    "    config('spark.jars.packages', 'com.datastax.spark:spark-cassandra-connector_2.12:3.4.1').\\\n",
    "    config('spark.cassandra.connection.host', 'localhost').\\\n",
    "    config('spark.sql.extensions', 'com.datastax.spark.connector.CassandraSparkExtensions').\\\n",
    "    config('spark.sql.catalog.mycatalog', 'com.datastax.spark.connector.datasource.CassandraCatalog').\\\n",
    "    config('spark.cassandra.connection.port', '9042').getOrCreate()\n",
    "# Some warnings are to be expected."
   ]
  },
  {
   "cell_type": "code",
   "execution_count": 189,
   "metadata": {},
   "outputs": [],
   "source": [
    "# Import necessary libraries\n",
    "import pandas as pd\n",
    "import numpy as np\n",
    "import matplotlib.pyplot as plt\n",
    "from ipywidgets import interact"
   ]
  },
  {
   "cell_type": "markdown",
   "metadata": {},
   "source": [
    "<h1> Pivioting"
   ]
  },
  {
   "cell_type": "code",
   "execution_count": 190,
   "metadata": {},
   "outputs": [],
   "source": [
    "# Connecting to Cassandra\n",
    "from cassandra.cluster import Cluster\n",
    "cluster = Cluster(['localhost'], port=9042)\n",
    "session = cluster.connect()"
   ]
  },
  {
   "cell_type": "code",
   "execution_count": 191,
   "metadata": {},
   "outputs": [
    {
     "data": {
      "text/plain": [
       "<cassandra.cluster.ResultSet at 0x1ac02d40510>"
      ]
     },
     "execution_count": 191,
     "metadata": {},
     "output_type": "execute_result"
    }
   ],
   "source": [
    "# Creating a keyspace\n",
    "session.execute(\"CREATE KEYSPACE IF NOT EXISTS fish_keyspace WITH REPLICATION = { 'class' : 'SimpleStrategy', 'replication_factor' : 1 };\")"
   ]
  },
  {
   "cell_type": "code",
   "execution_count": 192,
   "metadata": {},
   "outputs": [],
   "source": [
    "# set keyspace\n",
    "session.set_keyspace('fish_keyspace')"
   ]
  },
  {
   "cell_type": "code",
   "execution_count": 193,
   "metadata": {},
   "outputs": [
    {
     "name": "stdout",
     "output_type": "stream",
     "text": [
      "+--------------+------------------+----------+----------------------+------+--------------------+-----+---------------+-------------+----------------------+-------------------+--------+--------+----------------------+---------+----------+---------+------------+--------------+-------------------+----+----+\n",
      "|localityweekid|avgadultfemalelice|      date|hascleanerfishdeployed|hasila|hasmechanicalremoval|haspd|hasreportedlice|hassalmonoids|hassubstancetreatments|infilteredselection|isfallow|isonland|isslaughterholdingcage|      lat|localityno|      lon|municipality|municipalityno|               name|week|year|\n",
      "+--------------+------------------+----------+----------------------+------+--------------------+-----+---------------+-------------+----------------------+-------------------+--------+--------+----------------------+---------+----------+---------+------------+--------------+-------------------+----+----+\n",
      "|       1653764|              null|2023-10-30|                 false| false|               false|false|          false|         true|                 false|               true|   false|   false|                 false|  60.2564|     12022|  6.16585|        Kvam|          4622|     Ljonesbjørgene|  44|2023|\n",
      "|       1569554|              null|2023-05-01|                 false| false|               false|false|          false|        false|                 false|               true|    true|    true|                 false|62.978683|     37677| 8.242633|    Tingvoll|          1560|   Torjulvågen Land|  18|2023|\n",
      "|       1648203|               0.0|2023-10-16|                 false| false|               false|false|           true|         true|                 false|               true|   false|   false|                 false|59.778333|     24135|   5.9024|  Kvinnherad|          4617|             Utåker|  42|2023|\n",
      "|       1584196|              0.04|2023-06-05|                 false| false|               false|false|           true|         true|                 false|               true|   false|   false|                 false|  67.7267|     11315|  15.3812|     Steigen|          1848|         Hellarvika|  23|2023|\n",
      "|       1610988|              0.01|2023-07-24|                 false| false|               false|false|           true|         true|                 false|               true|   false|   false|                 false|70.106433|     36257|19.583867|     Karlsøy|          5423|             Mjønes|  30|2023|\n",
      "|       1504915|              null|2022-12-12|                 false| false|               false|false|          false|         true|                 false|               true|    true|    true|                 false| 59.94048|     13826| 5.518125|      Tysnes|          4616|          Flatråker|  50|2022|\n",
      "|       1513636|              null|2022-12-26|                 false| false|               false|false|          false|         true|                 false|               true|    true|   false|                 false| 64.38605|     37157|10.815717|   Flatanger|          5049|       Brattvika II|  52|2022|\n",
      "|       1586405|              null|2023-06-05|                 false| false|               false|false|          false|        false|                 false|               true|    true|   false|                 false| 61.09385|     36098| 5.838433|    Høyanger|          4638|Bjønnspjotneset III|  23|2023|\n",
      "|       1591011|              0.15|2023-06-19|                 false| false|                true|false|           true|         true|                 false|               true|   false|   false|                 false|  62.9839|     13021| 7.329667|  Hustadvika|          1579|            Gaustad|  25|2023|\n",
      "|       1610756|              null|2023-07-24|                 false|  true|               false|false|          false|         true|                 false|               true|    true|   false|                 false|  59.2955|     30036| 5.938617|   Stavanger|          1103|      Jørstadskjera|  30|2023|\n",
      "|       1560960|              null|2023-04-10|                 false| false|               false|false|          false|         true|                 false|               true|    true|   false|                 false|58.371667|     37097| 6.621667| Flekkefjord|          4207|           Rekevika|  15|2023|\n",
      "|       1581673|              null|2023-05-29|                 false| false|               false|false|          false|         true|                 false|               true|    true|   false|                 false|60.324217|     12074| 6.318983|  Ullensvang|          4618|       Svåsandneset|  22|2023|\n",
      "|       1651593|              0.11|2023-10-23|                 false| false|               false|false|           true|         true|                 false|               true|   false|   false|                 false|66.176367|     29376|12.770283|       Dønna|          1827|            Sundsøy|  43|2023|\n",
      "|       1501004|              0.31|2022-12-05|                 false| false|               false|false|           true|         true|                 false|               true|   false|   false|                 false|66.578467|     45002|12.691067|       Lurøy|          1834|           Korsvika|  49|2022|\n",
      "|       1652306|              null|2023-10-23|                 false| false|               false|false|          false|         true|                 false|               true|    true|    true|                 false|61.213333|     12158| 7.093883|     Sogndal|          4640|          Skjersnes|  43|2023|\n",
      "|       1556446|              null|2023-04-03|                 false| false|               false|false|          false|         true|                 false|               true|    true|   false|                 false|61.565267|     13708|  5.31025|        Kinn|          4602|           Steinvik|  14|2023|\n",
      "|       1525191|              null|2023-01-23|                 false| false|               false|false|          false|         true|                 false|               true|    true|   false|                 false|69.468417|     36717|17.606183|       Senja|          5421|    Vindhammarneset|   4|2023|\n",
      "|       1613075|              0.01|2023-07-31|                 false| false|               false|false|           true|         true|                 false|               true|   false|   false|                 false|60.523333|     13563| 5.352617|     Osterøy|          4630|          Angelskår|  31|2023|\n",
      "|       1625305|              null|2023-08-28|                 false| false|               false|false|          false|         true|                 false|               true|    true|   false|                 false|67.513167|     29576|15.570433|     Sørfold|          1845|             Kalvik|  35|2023|\n",
      "|       1499025|              null|2022-11-28|                 false| false|               false|false|          false|         true|                 false|               true|    true|    true|                 false|65.324359|     13584| 12.92174|     Brønnøy|          1813|            Tosbotn|  48|2022|\n",
      "+--------------+------------------+----------+----------------------+------+--------------------+-----+---------------+-------------+----------------------+-------------------+--------+--------+----------------------+---------+----------+---------+------------+--------------+-------------------+----+----+\n",
      "only showing top 20 rows\n",
      "\n"
     ]
    }
   ],
   "source": [
    "df_fish = spark.read.format(\"org.apache.spark.sql.cassandra\").options(table=\"fish_table_year\", keyspace=\"fish_keyspace\").load()\n",
    "df_fish.show()"
   ]
  },
  {
   "cell_type": "code",
   "execution_count": 194,
   "metadata": {},
   "outputs": [],
   "source": [
    "# Make spark dataframe to pandas dataframe\n",
    "df_fish = df_fish.toPandas()"
   ]
  },
  {
   "cell_type": "code",
   "execution_count": 195,
   "metadata": {},
   "outputs": [],
   "source": [
    "# Create a variable called region, splitting Norway into three regions: South - below 63.81 latitude, Middle - up to 68.85 latitude, North - above 68.85 latitude.\n",
    "df_fish['region'] = 'NaN'\n",
    "df_fish.loc[df_fish['lat'] < 63.81, 'region'] = 'South'\n",
    "df_fish.loc[(df_fish['lat'] >= 63.81) & (df_fish['lat'] <= 68.85), 'region'] = 'Middle'\n",
    "df_fish.loc[df_fish['lat'] > 68.85, 'region'] = 'North'"
   ]
  },
  {
   "cell_type": "code",
   "execution_count": 196,
   "metadata": {},
   "outputs": [],
   "source": [
    "# combine year and week into new column called year_week\n",
    "df_fish['year_week'] = df_fish['year'].astype(str) + '-' + df_fish['week'].astype(str)"
   ]
  },
  {
   "cell_type": "code",
   "execution_count": 197,
   "metadata": {},
   "outputs": [],
   "source": [
    "# Create the following \"Gropuby\"s: category: week and values: avgadultfemalelice\n",
    "df_fish_grouped = df_fish.groupby('year_week')['avgadultfemalelice'].mean().reset_index(name='avg_adult_female_lice')\n"
   ]
  },
  {
   "cell_type": "code",
   "execution_count": 198,
   "metadata": {},
   "outputs": [
    {
     "data": {
      "text/html": [
       "<div>\n",
       "<style scoped>\n",
       "    .dataframe tbody tr th:only-of-type {\n",
       "        vertical-align: middle;\n",
       "    }\n",
       "\n",
       "    .dataframe tbody tr th {\n",
       "        vertical-align: top;\n",
       "    }\n",
       "\n",
       "    .dataframe thead th {\n",
       "        text-align: right;\n",
       "    }\n",
       "</style>\n",
       "<table border=\"1\" class=\"dataframe\">\n",
       "  <thead>\n",
       "    <tr style=\"text-align: right;\">\n",
       "      <th></th>\n",
       "      <th>year_week</th>\n",
       "      <th>avg_adult_female_lice</th>\n",
       "    </tr>\n",
       "  </thead>\n",
       "  <tbody>\n",
       "    <tr>\n",
       "      <th>0</th>\n",
       "      <td>2022-45</td>\n",
       "      <td>0.188433</td>\n",
       "    </tr>\n",
       "    <tr>\n",
       "      <th>1</th>\n",
       "      <td>2022-46</td>\n",
       "      <td>0.188252</td>\n",
       "    </tr>\n",
       "    <tr>\n",
       "      <th>2</th>\n",
       "      <td>2022-47</td>\n",
       "      <td>0.192589</td>\n",
       "    </tr>\n",
       "    <tr>\n",
       "      <th>3</th>\n",
       "      <td>2022-48</td>\n",
       "      <td>0.160068</td>\n",
       "    </tr>\n",
       "    <tr>\n",
       "      <th>4</th>\n",
       "      <td>2022-49</td>\n",
       "      <td>0.164200</td>\n",
       "    </tr>\n",
       "  </tbody>\n",
       "</table>\n",
       "</div>"
      ],
      "text/plain": [
       "  year_week  avg_adult_female_lice\n",
       "0   2022-45               0.188433\n",
       "1   2022-46               0.188252\n",
       "2   2022-47               0.192589\n",
       "3   2022-48               0.160068\n",
       "4   2022-49               0.164200"
      ]
     },
     "execution_count": 198,
     "metadata": {},
     "output_type": "execute_result"
    }
   ],
   "source": [
    "df_fish_grouped.head()"
   ]
  },
  {
   "cell_type": "code",
   "execution_count": 199,
   "metadata": {},
   "outputs": [],
   "source": [
    "import pandas as pd\n",
    "# get the first date in each week and add it to the dataframe\n",
    "df_fish_grouped['date'] = pd.to_datetime(df_fish_grouped['year_week'] + '-1', format=\"%Y-%W-%w\")\n",
    "\n",
    "# have to groupby year_week since the data spans over two years"
   ]
  },
  {
   "cell_type": "code",
   "execution_count": 200,
   "metadata": {},
   "outputs": [
    {
     "data": {
      "text/html": [
       "<div>\n",
       "<style scoped>\n",
       "    .dataframe tbody tr th:only-of-type {\n",
       "        vertical-align: middle;\n",
       "    }\n",
       "\n",
       "    .dataframe tbody tr th {\n",
       "        vertical-align: top;\n",
       "    }\n",
       "\n",
       "    .dataframe thead th {\n",
       "        text-align: right;\n",
       "    }\n",
       "</style>\n",
       "<table border=\"1\" class=\"dataframe\">\n",
       "  <thead>\n",
       "    <tr style=\"text-align: right;\">\n",
       "      <th></th>\n",
       "      <th>year_week</th>\n",
       "      <th>avg_adult_female_lice</th>\n",
       "      <th>date</th>\n",
       "    </tr>\n",
       "  </thead>\n",
       "  <tbody>\n",
       "    <tr>\n",
       "      <th>0</th>\n",
       "      <td>2022-45</td>\n",
       "      <td>0.188433</td>\n",
       "      <td>2022-11-07</td>\n",
       "    </tr>\n",
       "    <tr>\n",
       "      <th>1</th>\n",
       "      <td>2022-46</td>\n",
       "      <td>0.188252</td>\n",
       "      <td>2022-11-14</td>\n",
       "    </tr>\n",
       "    <tr>\n",
       "      <th>2</th>\n",
       "      <td>2022-47</td>\n",
       "      <td>0.192589</td>\n",
       "      <td>2022-11-21</td>\n",
       "    </tr>\n",
       "    <tr>\n",
       "      <th>3</th>\n",
       "      <td>2022-48</td>\n",
       "      <td>0.160068</td>\n",
       "      <td>2022-11-28</td>\n",
       "    </tr>\n",
       "    <tr>\n",
       "      <th>4</th>\n",
       "      <td>2022-49</td>\n",
       "      <td>0.164200</td>\n",
       "      <td>2022-12-05</td>\n",
       "    </tr>\n",
       "  </tbody>\n",
       "</table>\n",
       "</div>"
      ],
      "text/plain": [
       "  year_week  avg_adult_female_lice       date\n",
       "0   2022-45               0.188433 2022-11-07\n",
       "1   2022-46               0.188252 2022-11-14\n",
       "2   2022-47               0.192589 2022-11-21\n",
       "3   2022-48               0.160068 2022-11-28\n",
       "4   2022-49               0.164200 2022-12-05"
      ]
     },
     "execution_count": 200,
     "metadata": {},
     "output_type": "execute_result"
    }
   ],
   "source": [
    "df_fish_grouped.head()"
   ]
  },
  {
   "cell_type": "code",
   "execution_count": 201,
   "metadata": {},
   "outputs": [
    {
     "data": {
      "text/plain": [
       "<Axes: xlabel='date'>"
      ]
     },
     "execution_count": 201,
     "metadata": {},
     "output_type": "execute_result"
    },
    {
     "data": {
      "image/png": "[encoded data removed]",
      "text/plain": [
       "<Figure size 640x480 with 1 Axes>"
      ]
     },
     "metadata": {},
     "output_type": "display_data"
    }
   ],
   "source": [
    "# plot the df_fish_grouped dataframe\n",
    "import matplotlib.pyplot as plt\n",
    "\n",
    "df_fish_grouped.plot(x='date', y='avg_adult_female_lice')\n"
   ]
  },
  {
   "cell_type": "code",
   "execution_count": 202,
   "metadata": {},
   "outputs": [],
   "source": [
    "# Create the following piviot tables:\n",
    "# category: haspd and haslla, values: lat\n",
    "\n",
    "df_fish_pivot = df_fish.pivot_table(index='year_week', values=['haspd', 'hasila'], aggfunc='mean').reset_index()"
   ]
  },
  {
   "cell_type": "code",
   "execution_count": 203,
   "metadata": {},
   "outputs": [
    {
     "data": {
      "text/html": [
       "<div>\n",
       "<style scoped>\n",
       "    .dataframe tbody tr th:only-of-type {\n",
       "        vertical-align: middle;\n",
       "    }\n",
       "\n",
       "    .dataframe tbody tr th {\n",
       "        vertical-align: top;\n",
       "    }\n",
       "\n",
       "    .dataframe thead th {\n",
       "        text-align: right;\n",
       "    }\n",
       "</style>\n",
       "<table border=\"1\" class=\"dataframe\">\n",
       "  <thead>\n",
       "    <tr style=\"text-align: right;\">\n",
       "      <th></th>\n",
       "      <th>year_week</th>\n",
       "      <th>hasila</th>\n",
       "      <th>haspd</th>\n",
       "    </tr>\n",
       "  </thead>\n",
       "  <tbody>\n",
       "    <tr>\n",
       "      <th>0</th>\n",
       "      <td>2022-45</td>\n",
       "      <td>0.006418</td>\n",
       "      <td>0.052509</td>\n",
       "    </tr>\n",
       "    <tr>\n",
       "      <th>1</th>\n",
       "      <td>2022-46</td>\n",
       "      <td>0.007585</td>\n",
       "      <td>0.052509</td>\n",
       "    </tr>\n",
       "    <tr>\n",
       "      <th>2</th>\n",
       "      <td>2022-47</td>\n",
       "      <td>0.007589</td>\n",
       "      <td>0.053123</td>\n",
       "    </tr>\n",
       "    <tr>\n",
       "      <th>3</th>\n",
       "      <td>2022-48</td>\n",
       "      <td>0.008168</td>\n",
       "      <td>0.053092</td>\n",
       "    </tr>\n",
       "    <tr>\n",
       "      <th>4</th>\n",
       "      <td>2022-49</td>\n",
       "      <td>0.008149</td>\n",
       "      <td>0.055879</td>\n",
       "    </tr>\n",
       "  </tbody>\n",
       "</table>\n",
       "</div>"
      ],
      "text/plain": [
       "  year_week    hasila     haspd\n",
       "0   2022-45  0.006418  0.052509\n",
       "1   2022-46  0.007585  0.052509\n",
       "2   2022-47  0.007589  0.053123\n",
       "3   2022-48  0.008168  0.053092\n",
       "4   2022-49  0.008149  0.055879"
      ]
     },
     "execution_count": 203,
     "metadata": {},
     "output_type": "execute_result"
    }
   ],
   "source": [
    "df_fish_pivot.head()"
   ]
  },
  {
   "cell_type": "code",
   "execution_count": 204,
   "metadata": {},
   "outputs": [],
   "source": [
    "# get the first date in each week and add it to the dataframe\n",
    "df_fish_pivot['date'] = pd.to_datetime(df_fish_pivot['year_week'] + '-1', format=\"%Y-%W-%w\")"
   ]
  },
  {
   "cell_type": "code",
   "execution_count": 205,
   "metadata": {},
   "outputs": [
    {
     "data": {
      "text/html": [
       "<div>\n",
       "<style scoped>\n",
       "    .dataframe tbody tr th:only-of-type {\n",
       "        vertical-align: middle;\n",
       "    }\n",
       "\n",
       "    .dataframe tbody tr th {\n",
       "        vertical-align: top;\n",
       "    }\n",
       "\n",
       "    .dataframe thead th {\n",
       "        text-align: right;\n",
       "    }\n",
       "</style>\n",
       "<table border=\"1\" class=\"dataframe\">\n",
       "  <thead>\n",
       "    <tr style=\"text-align: right;\">\n",
       "      <th></th>\n",
       "      <th>year_week</th>\n",
       "      <th>hasila</th>\n",
       "      <th>haspd</th>\n",
       "      <th>date</th>\n",
       "    </tr>\n",
       "  </thead>\n",
       "  <tbody>\n",
       "    <tr>\n",
       "      <th>0</th>\n",
       "      <td>2022-45</td>\n",
       "      <td>0.006418</td>\n",
       "      <td>0.052509</td>\n",
       "      <td>2022-11-07</td>\n",
       "    </tr>\n",
       "    <tr>\n",
       "      <th>1</th>\n",
       "      <td>2022-46</td>\n",
       "      <td>0.007585</td>\n",
       "      <td>0.052509</td>\n",
       "      <td>2022-11-14</td>\n",
       "    </tr>\n",
       "    <tr>\n",
       "      <th>2</th>\n",
       "      <td>2022-47</td>\n",
       "      <td>0.007589</td>\n",
       "      <td>0.053123</td>\n",
       "      <td>2022-11-21</td>\n",
       "    </tr>\n",
       "    <tr>\n",
       "      <th>3</th>\n",
       "      <td>2022-48</td>\n",
       "      <td>0.008168</td>\n",
       "      <td>0.053092</td>\n",
       "      <td>2022-11-28</td>\n",
       "    </tr>\n",
       "    <tr>\n",
       "      <th>4</th>\n",
       "      <td>2022-49</td>\n",
       "      <td>0.008149</td>\n",
       "      <td>0.055879</td>\n",
       "      <td>2022-12-05</td>\n",
       "    </tr>\n",
       "  </tbody>\n",
       "</table>\n",
       "</div>"
      ],
      "text/plain": [
       "  year_week    hasila     haspd       date\n",
       "0   2022-45  0.006418  0.052509 2022-11-07\n",
       "1   2022-46  0.007585  0.052509 2022-11-14\n",
       "2   2022-47  0.007589  0.053123 2022-11-21\n",
       "3   2022-48  0.008168  0.053092 2022-11-28\n",
       "4   2022-49  0.008149  0.055879 2022-12-05"
      ]
     },
     "execution_count": 205,
     "metadata": {},
     "output_type": "execute_result"
    }
   ],
   "source": [
    "df_fish_pivot.head()"
   ]
  },
  {
   "cell_type": "code",
   "execution_count": 206,
   "metadata": {},
   "outputs": [
    {
     "data": {
      "text/plain": [
       "<Axes: xlabel='date'>"
      ]
     },
     "execution_count": 206,
     "metadata": {},
     "output_type": "execute_result"
    },
    {
     "data": {
      "image/png": "[encoded data removed]",
      "text/plain": [
       "<Figure size 640x480 with 1 Axes>"
      ]
     },
     "metadata": {},
     "output_type": "display_data"
    }
   ],
   "source": [
    "# plot the df_fish_pivot dataframe\n",
    "df_fish_pivot.plot(x='date', y=['haspd', 'hasila'])"
   ]
  },
  {
   "cell_type": "code",
   "execution_count": 207,
   "metadata": {},
   "outputs": [
    {
     "data": {
      "image/png": "[encoded data removed]",
      "text/plain": [
       "<Figure size 640x480 with 1 Axes>"
      ]
     },
     "metadata": {},
     "output_type": "display_data"
    },
    {
     "data": {
      "image/png": "[encoded data removed]",
      "text/plain": [
       "<Figure size 640x480 with 1 Axes>"
      ]
     },
     "metadata": {},
     "output_type": "display_data"
    }
   ],
   "source": [
    "# Plot indepentently\n",
    "df_fish_pivot.plot(x='date', y='haspd')\n",
    "df_fish_pivot.plot(x='date', y='hasila')\n",
    "\n",
    "plt.show()"
   ]
  },
  {
   "cell_type": "code",
   "execution_count": 208,
   "metadata": {},
   "outputs": [],
   "source": [
    "# Create the following piviot tables:\n",
    "\n",
    "# Category: region and year_week, values: avgadultfemalelice\n",
    "\n",
    "df_fish_pivot2 = df_fish.pivot_table(index=['region', 'year_week'], values='avgadultfemalelice', aggfunc='mean').reset_index()\n",
    "\n",
    "# Get the first date in each week and add it to the dataframe\n",
    "df_fish_pivot2['date'] = pd.to_datetime(df_fish_pivot2['year_week'] + '-1', format=\"%Y-%W-%w\")"
   ]
  },
  {
   "cell_type": "code",
   "execution_count": 209,
   "metadata": {},
   "outputs": [
    {
     "data": {
      "text/plain": [
       "<Axes: xlabel='date', ylabel='avgadultfemalelice'>"
      ]
     },
     "execution_count": 209,
     "metadata": {},
     "output_type": "execute_result"
    },
    {
     "data": {
      "image/png": "[encoded data removed]",
      "text/plain": [
       "<Figure size 640x480 with 1 Axes>"
      ]
     },
     "metadata": {},
     "output_type": "display_data"
    }
   ],
   "source": [
    "# Plot the df_fish_pivot2 dataframe with region as hue\n",
    "import seaborn as sns\n",
    "sns.lineplot(data=df_fish_pivot2, x='date', y='avgadultfemalelice', hue='region')\n",
    "\n",
    "# you can see that the middle and north regions follows the south region with a delay of 1-2 months."
   ]
  },
  {
   "cell_type": "markdown",
   "metadata": {},
   "source": [
    "<h1> Forecasting"
   ]
  },
  {
   "cell_type": "code",
   "execution_count": 210,
   "metadata": {},
   "outputs": [
    {
     "data": {
      "text/html": [
       "<div>\n",
       "<style scoped>\n",
       "    .dataframe tbody tr th:only-of-type {\n",
       "        vertical-align: middle;\n",
       "    }\n",
       "\n",
       "    .dataframe tbody tr th {\n",
       "        vertical-align: top;\n",
       "    }\n",
       "\n",
       "    .dataframe thead th {\n",
       "        text-align: right;\n",
       "    }\n",
       "</style>\n",
       "<table border=\"1\" class=\"dataframe\">\n",
       "  <thead>\n",
       "    <tr style=\"text-align: right;\">\n",
       "      <th></th>\n",
       "      <th>year_week</th>\n",
       "      <th>avgadultfemalelice</th>\n",
       "      <th>avgmobilelice</th>\n",
       "      <th>avgstationarylice</th>\n",
       "      <th>localityname</th>\n",
       "      <th>seatemperature</th>\n",
       "      <th>specieslist</th>\n",
       "      <th>week</th>\n",
       "      <th>year</th>\n",
       "    </tr>\n",
       "  </thead>\n",
       "  <tbody>\n",
       "    <tr>\n",
       "      <th>0</th>\n",
       "      <td>2023-01-30</td>\n",
       "      <td>0.06</td>\n",
       "      <td>0.24</td>\n",
       "      <td>0.02</td>\n",
       "      <td>Andholmen 1</td>\n",
       "      <td>6.7</td>\n",
       "      <td>['Laks', 'Ørret', 'Regnbueørret']</td>\n",
       "      <td>5</td>\n",
       "      <td>2023</td>\n",
       "    </tr>\n",
       "    <tr>\n",
       "      <th>1</th>\n",
       "      <td>2023-06-05</td>\n",
       "      <td>0.05</td>\n",
       "      <td>0.98</td>\n",
       "      <td>0.20</td>\n",
       "      <td>Andholmen 1</td>\n",
       "      <td>8.8</td>\n",
       "      <td>['Laks', 'Ørret', 'Regnbueørret']</td>\n",
       "      <td>23</td>\n",
       "      <td>2023</td>\n",
       "    </tr>\n",
       "    <tr>\n",
       "      <th>2</th>\n",
       "      <td>2023-06-19</td>\n",
       "      <td>0.09</td>\n",
       "      <td>0.60</td>\n",
       "      <td>0.06</td>\n",
       "      <td>Andholmen 1</td>\n",
       "      <td>11.2</td>\n",
       "      <td>['Laks', 'Ørret', 'Regnbueørret']</td>\n",
       "      <td>25</td>\n",
       "      <td>2023</td>\n",
       "    </tr>\n",
       "    <tr>\n",
       "      <th>3</th>\n",
       "      <td>2022-11-21</td>\n",
       "      <td>0.01</td>\n",
       "      <td>0.15</td>\n",
       "      <td>0.00</td>\n",
       "      <td>Andholmen 1</td>\n",
       "      <td>8.6</td>\n",
       "      <td>['Laks', 'Ørret', 'Regnbueørret']</td>\n",
       "      <td>47</td>\n",
       "      <td>2022</td>\n",
       "    </tr>\n",
       "    <tr>\n",
       "      <th>4</th>\n",
       "      <td>2023-01-16</td>\n",
       "      <td>0.08</td>\n",
       "      <td>0.54</td>\n",
       "      <td>0.08</td>\n",
       "      <td>Andholmen 1</td>\n",
       "      <td>6.2</td>\n",
       "      <td>['Laks', 'Ørret', 'Regnbueørret']</td>\n",
       "      <td>3</td>\n",
       "      <td>2023</td>\n",
       "    </tr>\n",
       "  </tbody>\n",
       "</table>\n",
       "</div>"
      ],
      "text/plain": [
       "    year_week  avgadultfemalelice  avgmobilelice  avgstationarylice  \\\n",
       "0  2023-01-30                0.06           0.24               0.02   \n",
       "1  2023-06-05                0.05           0.98               0.20   \n",
       "2  2023-06-19                0.09           0.60               0.06   \n",
       "3  2022-11-21                0.01           0.15               0.00   \n",
       "4  2023-01-16                0.08           0.54               0.08   \n",
       "\n",
       "  localityname  seatemperature                        specieslist  week  year  \n",
       "0  Andholmen 1             6.7  ['Laks', 'Ørret', 'Regnbueørret']     5  2023  \n",
       "1  Andholmen 1             8.8  ['Laks', 'Ørret', 'Regnbueørret']    23  2023  \n",
       "2  Andholmen 1            11.2  ['Laks', 'Ørret', 'Regnbueørret']    25  2023  \n",
       "3  Andholmen 1             8.6  ['Laks', 'Ørret', 'Regnbueørret']    47  2022  \n",
       "4  Andholmen 1             6.2  ['Laks', 'Ørret', 'Regnbueørret']     3  2023  "
      ]
     },
     "execution_count": 210,
     "metadata": {},
     "output_type": "execute_result"
    }
   ],
   "source": [
    "# Read from Cassandra - lice_count_table\n",
    "df_lice = spark.read.format(\"org.apache.spark.sql.cassandra\").options(table=\"lice_count_table\", keyspace=\"fish_keyspace\").load()\n",
    "\n",
    "# make spark dataframe to pandas dataframe\n",
    "df_lice = df_lice.toPandas()\n",
    "df_lice.head()"
   ]
  },
  {
   "cell_type": "code",
   "execution_count": 211,
   "metadata": {},
   "outputs": [
    {
     "data": {
      "text/html": [
       "<div>\n",
       "<style scoped>\n",
       "    .dataframe tbody tr th:only-of-type {\n",
       "        vertical-align: middle;\n",
       "    }\n",
       "\n",
       "    .dataframe tbody tr th {\n",
       "        vertical-align: top;\n",
       "    }\n",
       "\n",
       "    .dataframe thead th {\n",
       "        text-align: right;\n",
       "    }\n",
       "</style>\n",
       "<table border=\"1\" class=\"dataframe\">\n",
       "  <thead>\n",
       "    <tr style=\"text-align: right;\">\n",
       "      <th></th>\n",
       "      <th>year_week</th>\n",
       "      <th>avgadultfemalelice</th>\n",
       "      <th>avgmobilelice</th>\n",
       "      <th>avgstationarylice</th>\n",
       "      <th>seatemperature</th>\n",
       "    </tr>\n",
       "  </thead>\n",
       "  <tbody>\n",
       "    <tr>\n",
       "      <th>0</th>\n",
       "      <td>2023-01-30</td>\n",
       "      <td>0.06</td>\n",
       "      <td>0.24</td>\n",
       "      <td>0.02</td>\n",
       "      <td>6.7</td>\n",
       "    </tr>\n",
       "    <tr>\n",
       "      <th>1</th>\n",
       "      <td>2023-06-05</td>\n",
       "      <td>0.05</td>\n",
       "      <td>0.98</td>\n",
       "      <td>0.20</td>\n",
       "      <td>8.8</td>\n",
       "    </tr>\n",
       "    <tr>\n",
       "      <th>2</th>\n",
       "      <td>2023-06-19</td>\n",
       "      <td>0.09</td>\n",
       "      <td>0.60</td>\n",
       "      <td>0.06</td>\n",
       "      <td>11.2</td>\n",
       "    </tr>\n",
       "    <tr>\n",
       "      <th>3</th>\n",
       "      <td>2022-11-21</td>\n",
       "      <td>0.01</td>\n",
       "      <td>0.15</td>\n",
       "      <td>0.00</td>\n",
       "      <td>8.6</td>\n",
       "    </tr>\n",
       "    <tr>\n",
       "      <th>4</th>\n",
       "      <td>2023-01-16</td>\n",
       "      <td>0.08</td>\n",
       "      <td>0.54</td>\n",
       "      <td>0.08</td>\n",
       "      <td>6.2</td>\n",
       "    </tr>\n",
       "  </tbody>\n",
       "</table>\n",
       "</div>"
      ],
      "text/plain": [
       "    year_week  avgadultfemalelice  avgmobilelice  avgstationarylice  \\\n",
       "0  2023-01-30                0.06           0.24               0.02   \n",
       "1  2023-06-05                0.05           0.98               0.20   \n",
       "2  2023-06-19                0.09           0.60               0.06   \n",
       "3  2022-11-21                0.01           0.15               0.00   \n",
       "4  2023-01-16                0.08           0.54               0.08   \n",
       "\n",
       "   seatemperature  \n",
       "0             6.7  \n",
       "1             8.8  \n",
       "2            11.2  \n",
       "3             8.6  \n",
       "4             6.2  "
      ]
     },
     "execution_count": 211,
     "metadata": {},
     "output_type": "execute_result"
    }
   ],
   "source": [
    "# Drop the following columns: localityname, specieslist, week and year in df_lice\n",
    "df_lice = df_lice.drop(['localityname', 'specieslist', 'week', 'year'], axis=1)\n",
    "df_lice.head()"
   ]
  },
  {
   "cell_type": "code",
   "execution_count": 212,
   "metadata": {},
   "outputs": [],
   "source": [
    "# Define the lagged correlation function\n",
    "def lagged_correlation(lag=0, seatemperature='seatemperature', licetype='avgadultfemalelice'):\n",
    "    y = df_lice[seatemperature]\n",
    "    x = df_lice[licetype]\n",
    "\n",
    "    # Apply the lag\n",
    "    x_lagged = x.shift(lag)  # Shift the lice data by 'lag'\n",
    "    valid_index = ~np.isnan(x_lagged) & ~np.isnan(y)  # Remove NaN values for correlation calculation\n",
    "    corr = np.corrcoef(y[valid_index], x_lagged[valid_index])[0, 1]\n",
    "    \n",
    "    # Print the result\n",
    "    print(f\"Correlation between {seatemperature} and {licetype} lagged {lag} timepoints: {corr:.3f}\")\n",
    "\n",
    "# Define the function to calculate and plot the sliding window correlation\n",
    "def plot_swc(center, window, seatemperature='seatemperature', licetype='avgadultfemalelice'):\n",
    "    y = df_lice[seatemperature]\n",
    "    x = df_lice[licetype]\n",
    "\n",
    "    # Calculate the sliding window correlation\n",
    "    swc = y.rolling(window, center=True).corr(x)\n",
    "\n",
    "    # Define the window bounds\n",
    "    window_start = max(center - window // 2, 0)\n",
    "    window_end = min(center + window // 2, len(df_lice))\n",
    "        \n",
    "    # Plot the data\n",
    "    plt.figure(figsize=(14, 7))\n",
    "\n",
    "    # Plot sea temperature\n",
    "    plt.subplot(3, 1, 1)\n",
    "    plt.plot(y.index, y, label=seatemperature)\n",
    "    plt.plot(y.index[window_start:window_end], y[window_start:window_end], 'r', label='Window Frame')\n",
    "    plt.ylabel(seatemperature)\n",
    "    plt.xlim(y.index.min(), y.index.max())\n",
    "\n",
    "    # Plot lice type\n",
    "    plt.subplot(3, 1, 2)\n",
    "    plt.plot(x.index, x, label=licetype)\n",
    "    plt.plot(x.index[window_start:window_end], x[window_start:window_end], 'r', label='Window Frame')\n",
    "    plt.ylabel(licetype)\n",
    "    plt.xlim(x.index.min(), x.index.max())\n",
    "\n",
    "    # Plot the sliding window correlation\n",
    "    plt.subplot(3, 1, 3)\n",
    "    plt.plot(swc.index, swc, label='SWC')\n",
    "    plt.axvline(x=swc.index[center], color='red', linestyle='--', label='Center')\n",
    "    plt.ylabel('SWC')\n",
    "    plt.axhline(y=0, color='gray', linestyle='--')\n",
    "    plt.ylim(-1, 1)\n",
    "    plt.xlim(swc.index.min(), swc.index.max())\n",
    "    plt.legend()\n",
    "    plt.tight_layout()\n",
    "    plt.show()"
   ]
  },
  {
   "cell_type": "code",
   "execution_count": 213,
   "metadata": {},
   "outputs": [
    {
     "data": {
      "application/vnd.jupyter.widget-view+json": {
       "model_id": "ab72ea66d5d24eeb86d808793043e244",
       "version_major": 2,
       "version_minor": 0
      },
      "text/plain": [
       "interactive(children=(IntSlider(value=26, description='center', max=51, min=1), IntSlider(value=26, descriptio…"
      ]
     },
     "metadata": {},
     "output_type": "display_data"
    },
    {
     "data": {
      "application/vnd.jupyter.widget-view+json": {
       "model_id": "f85ec841377543dea6933d4804b8b5d4",
       "version_major": 2,
       "version_minor": 0
      },
      "text/plain": [
       "interactive(children=(IntSlider(value=0, description='lag', max=51), Dropdown(description='seatemperature', op…"
      ]
     },
     "metadata": {},
     "output_type": "display_data"
    },
    {
     "data": {
      "text/plain": [
       "<function __main__.lagged_correlation(lag=0, seatemperature='seatemperature', licetype='avgadultfemalelice')>"
      ]
     },
     "execution_count": 213,
     "metadata": {},
     "output_type": "execute_result"
    }
   ],
   "source": [
    "# Use interact to create the sliders and input options\n",
    "interact(plot_swc,\n",
    "         center=(1, len(df_lice)-1, 1),  # Center slider\n",
    "         window=(1, len(df_lice)-1, 1),  # Window size slider\n",
    "         seatemperature=['seatemperature'],  # Dropdown for sea temperature\n",
    "         licetype=['avgadultfemalelice', 'avgmobilelice', 'avgstationarylice'])  # Dropdown for lice types\n",
    "\n",
    "# Also update the interact function for lagged_correlation\n",
    "interact(lagged_correlation, lag=(0, len(df_lice)-1, 1),\n",
    "         seatemperature=['seatemperature'],\n",
    "         licetype=['avgadultfemalelice', 'avgmobilelice', 'avgstationarylice'])"
   ]
  },
  {
   "cell_type": "markdown",
   "metadata": {},
   "source": [
    "<h3> Forecating part 2\n"
   ]
  },
  {
   "cell_type": "code",
   "execution_count": 214,
   "metadata": {},
   "outputs": [
    {
     "data": {
      "text/html": [
       "<div>\n",
       "<style scoped>\n",
       "    .dataframe tbody tr th:only-of-type {\n",
       "        vertical-align: middle;\n",
       "    }\n",
       "\n",
       "    .dataframe tbody tr th {\n",
       "        vertical-align: top;\n",
       "    }\n",
       "\n",
       "    .dataframe thead th {\n",
       "        text-align: right;\n",
       "    }\n",
       "</style>\n",
       "<table border=\"1\" class=\"dataframe\">\n",
       "  <thead>\n",
       "    <tr style=\"text-align: right;\">\n",
       "      <th></th>\n",
       "      <th>referencetime</th>\n",
       "      <th>avgadultfemalelice</th>\n",
       "      <th>avgmobilelice</th>\n",
       "      <th>avgstationarylice</th>\n",
       "      <th>localityname</th>\n",
       "      <th>mean_air_temperature</th>\n",
       "      <th>mean_relative_humidity</th>\n",
       "      <th>mean_wind_speed</th>\n",
       "      <th>seatemperature</th>\n",
       "      <th>sum_precipitation_amount</th>\n",
       "    </tr>\n",
       "  </thead>\n",
       "  <tbody>\n",
       "    <tr>\n",
       "      <th>0</th>\n",
       "      <td>2023-03-12</td>\n",
       "      <td>0.03</td>\n",
       "      <td>0.13</td>\n",
       "      <td>0.00</td>\n",
       "      <td>Andholmen 1</td>\n",
       "      <td>-1.485714</td>\n",
       "      <td>78.285714</td>\n",
       "      <td>7.085714</td>\n",
       "      <td>5.5</td>\n",
       "      <td>54.1</td>\n",
       "    </tr>\n",
       "    <tr>\n",
       "      <th>1</th>\n",
       "      <td>2023-09-17</td>\n",
       "      <td>0.28</td>\n",
       "      <td>0.74</td>\n",
       "      <td>0.06</td>\n",
       "      <td>Andholmen 1</td>\n",
       "      <td>11.928571</td>\n",
       "      <td>75.142857</td>\n",
       "      <td>6.757143</td>\n",
       "      <td>14.2</td>\n",
       "      <td>12.2</td>\n",
       "    </tr>\n",
       "    <tr>\n",
       "      <th>2</th>\n",
       "      <td>2022-12-04</td>\n",
       "      <td>0.03</td>\n",
       "      <td>0.26</td>\n",
       "      <td>0.03</td>\n",
       "      <td>Andholmen 1</td>\n",
       "      <td>5.542857</td>\n",
       "      <td>84.142857</td>\n",
       "      <td>3.728571</td>\n",
       "      <td>8.4</td>\n",
       "      <td>3.6</td>\n",
       "    </tr>\n",
       "    <tr>\n",
       "      <th>3</th>\n",
       "      <td>2023-10-29</td>\n",
       "      <td>0.16</td>\n",
       "      <td>0.34</td>\n",
       "      <td>0.01</td>\n",
       "      <td>Andholmen 1</td>\n",
       "      <td>6.050000</td>\n",
       "      <td>75.285714</td>\n",
       "      <td>4.271429</td>\n",
       "      <td>10.0</td>\n",
       "      <td>2.4</td>\n",
       "    </tr>\n",
       "    <tr>\n",
       "      <th>4</th>\n",
       "      <td>2023-03-26</td>\n",
       "      <td>0.02</td>\n",
       "      <td>0.11</td>\n",
       "      <td>0.00</td>\n",
       "      <td>Andholmen 1</td>\n",
       "      <td>2.192857</td>\n",
       "      <td>75.714286</td>\n",
       "      <td>5.842857</td>\n",
       "      <td>4.7</td>\n",
       "      <td>24.0</td>\n",
       "    </tr>\n",
       "  </tbody>\n",
       "</table>\n",
       "</div>"
      ],
      "text/plain": [
       "  referencetime  avgadultfemalelice  avgmobilelice  avgstationarylice  \\\n",
       "0    2023-03-12                0.03           0.13               0.00   \n",
       "1    2023-09-17                0.28           0.74               0.06   \n",
       "2    2022-12-04                0.03           0.26               0.03   \n",
       "3    2023-10-29                0.16           0.34               0.01   \n",
       "4    2023-03-26                0.02           0.11               0.00   \n",
       "\n",
       "  localityname  mean_air_temperature  mean_relative_humidity  mean_wind_speed  \\\n",
       "0  Andholmen 1             -1.485714               78.285714         7.085714   \n",
       "1  Andholmen 1             11.928571               75.142857         6.757143   \n",
       "2  Andholmen 1              5.542857               84.142857         3.728571   \n",
       "3  Andholmen 1              6.050000               75.285714         4.271429   \n",
       "4  Andholmen 1              2.192857               75.714286         5.842857   \n",
       "\n",
       "   seatemperature  sum_precipitation_amount  \n",
       "0             5.5                      54.1  \n",
       "1            14.2                      12.2  \n",
       "2             8.4                       3.6  \n",
       "3            10.0                       2.4  \n",
       "4             4.7                      24.0  "
      ]
     },
     "execution_count": 214,
     "metadata": {},
     "output_type": "execute_result"
    }
   ],
   "source": [
    "# get combine_df from Cassandra\n",
    "df_sync = spark.read.format(\"org.apache.spark.sql.cassandra\").options(table=\"combine_table\", keyspace=\"fish_keyspace\").load()\n",
    "\n",
    "# make spark dataframe to pandas dataframe\n",
    "df_sync = df_sync.toPandas()\n",
    "df_sync.head()\n"
   ]
  },
  {
   "cell_type": "code",
   "execution_count": 215,
   "metadata": {},
   "outputs": [],
   "source": [
    "# drop the following columns: localityname\n",
    "df_sync = df_sync.drop(['localityname'], axis=1)"
   ]
  },
  {
   "cell_type": "code",
   "execution_count": 216,
   "metadata": {},
   "outputs": [],
   "source": [
    "df_sync['referencetime'] = pd.to_datetime(df_sync['referencetime'])\n",
    "\n",
    "df_sync.index = df_sync['referencetime']\n",
    "\n",
    "df_sync = df_sync.asfreq('W')\n",
    "\n",
    "# drop the following columns: referencetime\n",
    "df_sync = df_sync.drop(['referencetime'], axis=1)\n",
    "\n",
    "#Sort the values in df_sync by referencetime\n",
    "df_sync = df_sync.sort_values(by='referencetime')"
   ]
  },
  {
   "cell_type": "code",
   "execution_count": 217,
   "metadata": {},
   "outputs": [
    {
     "data": {
      "text/html": [
       "<div>\n",
       "<style scoped>\n",
       "    .dataframe tbody tr th:only-of-type {\n",
       "        vertical-align: middle;\n",
       "    }\n",
       "\n",
       "    .dataframe tbody tr th {\n",
       "        vertical-align: top;\n",
       "    }\n",
       "\n",
       "    .dataframe thead th {\n",
       "        text-align: right;\n",
       "    }\n",
       "</style>\n",
       "<table border=\"1\" class=\"dataframe\">\n",
       "  <thead>\n",
       "    <tr style=\"text-align: right;\">\n",
       "      <th></th>\n",
       "      <th>avgadultfemalelice</th>\n",
       "      <th>avgmobilelice</th>\n",
       "      <th>avgstationarylice</th>\n",
       "      <th>mean_air_temperature</th>\n",
       "      <th>mean_relative_humidity</th>\n",
       "      <th>mean_wind_speed</th>\n",
       "      <th>seatemperature</th>\n",
       "      <th>sum_precipitation_amount</th>\n",
       "      <th>avgadultfemalelice_lag</th>\n",
       "      <th>avgmobilelice_lag</th>\n",
       "      <th>avgstationarylice_lag</th>\n",
       "      <th>seatemperature_lag</th>\n",
       "      <th>mean_air_temperature_lag</th>\n",
       "      <th>mean_wind_speed_lag</th>\n",
       "      <th>mean_relative_humidity_lag</th>\n",
       "      <th>sum_precipitation_amount_lag</th>\n",
       "    </tr>\n",
       "    <tr>\n",
       "      <th>referencetime</th>\n",
       "      <th></th>\n",
       "      <th></th>\n",
       "      <th></th>\n",
       "      <th></th>\n",
       "      <th></th>\n",
       "      <th></th>\n",
       "      <th></th>\n",
       "      <th></th>\n",
       "      <th></th>\n",
       "      <th></th>\n",
       "      <th></th>\n",
       "      <th></th>\n",
       "      <th></th>\n",
       "      <th></th>\n",
       "      <th></th>\n",
       "      <th></th>\n",
       "    </tr>\n",
       "  </thead>\n",
       "  <tbody>\n",
       "    <tr>\n",
       "      <th>2022-11-13</th>\n",
       "      <td>0.02</td>\n",
       "      <td>0.05</td>\n",
       "      <td>0.02</td>\n",
       "      <td>9.164286</td>\n",
       "      <td>89.285714</td>\n",
       "      <td>7.000000</td>\n",
       "      <td>10.6</td>\n",
       "      <td>44.2</td>\n",
       "      <td>0.02</td>\n",
       "      <td>0.05</td>\n",
       "      <td>0.02</td>\n",
       "      <td>10.6</td>\n",
       "      <td>9.164286</td>\n",
       "      <td>7.000000</td>\n",
       "      <td>89.285714</td>\n",
       "      <td>44.2</td>\n",
       "    </tr>\n",
       "    <tr>\n",
       "      <th>2022-11-20</th>\n",
       "      <td>0.00</td>\n",
       "      <td>0.17</td>\n",
       "      <td>0.06</td>\n",
       "      <td>7.950000</td>\n",
       "      <td>64.142857</td>\n",
       "      <td>6.000000</td>\n",
       "      <td>10.3</td>\n",
       "      <td>0.1</td>\n",
       "      <td>0.02</td>\n",
       "      <td>0.05</td>\n",
       "      <td>0.02</td>\n",
       "      <td>10.6</td>\n",
       "      <td>9.164286</td>\n",
       "      <td>7.000000</td>\n",
       "      <td>89.285714</td>\n",
       "      <td>44.2</td>\n",
       "    </tr>\n",
       "    <tr>\n",
       "      <th>2022-11-27</th>\n",
       "      <td>0.01</td>\n",
       "      <td>0.15</td>\n",
       "      <td>0.00</td>\n",
       "      <td>5.450000</td>\n",
       "      <td>62.714286</td>\n",
       "      <td>6.685714</td>\n",
       "      <td>8.6</td>\n",
       "      <td>0.0</td>\n",
       "      <td>0.00</td>\n",
       "      <td>0.17</td>\n",
       "      <td>0.06</td>\n",
       "      <td>10.3</td>\n",
       "      <td>7.950000</td>\n",
       "      <td>6.000000</td>\n",
       "      <td>64.142857</td>\n",
       "      <td>0.1</td>\n",
       "    </tr>\n",
       "    <tr>\n",
       "      <th>2022-12-04</th>\n",
       "      <td>0.03</td>\n",
       "      <td>0.26</td>\n",
       "      <td>0.03</td>\n",
       "      <td>5.542857</td>\n",
       "      <td>84.142857</td>\n",
       "      <td>3.728571</td>\n",
       "      <td>8.4</td>\n",
       "      <td>3.6</td>\n",
       "      <td>0.01</td>\n",
       "      <td>0.15</td>\n",
       "      <td>0.00</td>\n",
       "      <td>8.6</td>\n",
       "      <td>5.450000</td>\n",
       "      <td>6.685714</td>\n",
       "      <td>62.714286</td>\n",
       "      <td>0.0</td>\n",
       "    </tr>\n",
       "    <tr>\n",
       "      <th>2022-12-11</th>\n",
       "      <td>0.06</td>\n",
       "      <td>0.28</td>\n",
       "      <td>0.03</td>\n",
       "      <td>1.071429</td>\n",
       "      <td>75.142857</td>\n",
       "      <td>8.785714</td>\n",
       "      <td>7.6</td>\n",
       "      <td>30.7</td>\n",
       "      <td>0.03</td>\n",
       "      <td>0.26</td>\n",
       "      <td>0.03</td>\n",
       "      <td>8.4</td>\n",
       "      <td>5.542857</td>\n",
       "      <td>3.728571</td>\n",
       "      <td>84.142857</td>\n",
       "      <td>3.6</td>\n",
       "    </tr>\n",
       "  </tbody>\n",
       "</table>\n",
       "</div>"
      ],
      "text/plain": [
       "               avgadultfemalelice  avgmobilelice  avgstationarylice  \\\n",
       "referencetime                                                         \n",
       "2022-11-13                   0.02           0.05               0.02   \n",
       "2022-11-20                   0.00           0.17               0.06   \n",
       "2022-11-27                   0.01           0.15               0.00   \n",
       "2022-12-04                   0.03           0.26               0.03   \n",
       "2022-12-11                   0.06           0.28               0.03   \n",
       "\n",
       "               mean_air_temperature  mean_relative_humidity  mean_wind_speed  \\\n",
       "referencetime                                                                  \n",
       "2022-11-13                 9.164286               89.285714         7.000000   \n",
       "2022-11-20                 7.950000               64.142857         6.000000   \n",
       "2022-11-27                 5.450000               62.714286         6.685714   \n",
       "2022-12-04                 5.542857               84.142857         3.728571   \n",
       "2022-12-11                 1.071429               75.142857         8.785714   \n",
       "\n",
       "               seatemperature  sum_precipitation_amount  \\\n",
       "referencetime                                             \n",
       "2022-11-13               10.6                      44.2   \n",
       "2022-11-20               10.3                       0.1   \n",
       "2022-11-27                8.6                       0.0   \n",
       "2022-12-04                8.4                       3.6   \n",
       "2022-12-11                7.6                      30.7   \n",
       "\n",
       "               avgadultfemalelice_lag  avgmobilelice_lag  \\\n",
       "referencetime                                              \n",
       "2022-11-13                       0.02               0.05   \n",
       "2022-11-20                       0.02               0.05   \n",
       "2022-11-27                       0.00               0.17   \n",
       "2022-12-04                       0.01               0.15   \n",
       "2022-12-11                       0.03               0.26   \n",
       "\n",
       "               avgstationarylice_lag  seatemperature_lag  \\\n",
       "referencetime                                              \n",
       "2022-11-13                      0.02                10.6   \n",
       "2022-11-20                      0.02                10.6   \n",
       "2022-11-27                      0.06                10.3   \n",
       "2022-12-04                      0.00                 8.6   \n",
       "2022-12-11                      0.03                 8.4   \n",
       "\n",
       "               mean_air_temperature_lag  mean_wind_speed_lag  \\\n",
       "referencetime                                                  \n",
       "2022-11-13                     9.164286             7.000000   \n",
       "2022-11-20                     9.164286             7.000000   \n",
       "2022-11-27                     7.950000             6.000000   \n",
       "2022-12-04                     5.450000             6.685714   \n",
       "2022-12-11                     5.542857             3.728571   \n",
       "\n",
       "               mean_relative_humidity_lag  sum_precipitation_amount_lag  \n",
       "referencetime                                                            \n",
       "2022-11-13                      89.285714                          44.2  \n",
       "2022-11-20                      89.285714                          44.2  \n",
       "2022-11-27                      64.142857                           0.1  \n",
       "2022-12-04                      62.714286                           0.0  \n",
       "2022-12-11                      84.142857                           3.6  "
      ]
     },
     "execution_count": 217,
     "metadata": {},
     "output_type": "execute_result"
    }
   ],
   "source": [
    "# Make a bfill lag of one time step for each column except for referencetime\n",
    "\n",
    "df_sync['avgadultfemalelice_lag'] = df_sync['avgadultfemalelice'].shift(1).bfill()\n",
    "df_sync['avgmobilelice_lag'] = df_sync['avgmobilelice'].shift(1).bfill()\n",
    "df_sync['avgstationarylice_lag'] = df_sync['avgstationarylice'].shift(1).bfill()\n",
    "df_sync['seatemperature_lag'] = df_sync['seatemperature'].shift(1).bfill()\n",
    "df_sync['mean_air_temperature_lag'] = df_sync['mean_air_temperature'].shift(1).bfill()\n",
    "df_sync['mean_wind_speed_lag'] = df_sync['mean_wind_speed'].shift(1).bfill()\n",
    "df_sync['mean_relative_humidity_lag'] = df_sync['mean_relative_humidity'].shift(1).bfill()\n",
    "df_sync['sum_precipitation_amount_lag'] = df_sync['sum_precipitation_amount'].shift(1).bfill()\n",
    "\n",
    "\n",
    "df_sync.head()"
   ]
  },
  {
   "cell_type": "code",
   "execution_count": 218,
   "metadata": {},
   "outputs": [
    {
     "name": "stderr",
     "output_type": "stream",
     "text": [
      "c:\\Users\\dinus\\anaconda3\\envs\\IND320\\Lib\\site-packages\\statsmodels\\tsa\\statespace\\sarimax.py:966: UserWarning: Non-stationary starting autoregressive parameters found. Using zeros as starting parameters.\n",
      "  warn('Non-stationary starting autoregressive parameters'\n",
      "c:\\Users\\dinus\\anaconda3\\envs\\IND320\\Lib\\site-packages\\statsmodels\\tsa\\statespace\\sarimax.py:978: UserWarning: Non-invertible starting MA parameters found. Using zeros as starting parameters.\n",
      "  warn('Non-invertible starting MA parameters found.'\n"
     ]
    },
    {
     "name": "stdout",
     "output_type": "stream",
     "text": [
      "                               SARIMAX Results                                \n",
      "==============================================================================\n",
      "Dep. Variable:         seatemperature   No. Observations:                   51\n",
      "Model:               SARIMAX(1, 1, 1)   Log Likelihood                 -40.848\n",
      "Date:                Thu, 09 Nov 2023   AIC                            103.696\n",
      "Time:                        13:25:49   BIC                            124.729\n",
      "Sample:                    11-13-2022   HQIC                           111.706\n",
      "                         - 10-29-2023                                         \n",
      "Covariance Type:                  opg                                         \n",
      "============================================================================================\n",
      "                               coef    std err          z      P>|z|      [0.025      0.975]\n",
      "--------------------------------------------------------------------------------------------\n",
      "intercept                   -0.0152      0.038     -0.404      0.686      -0.089       0.059\n",
      "avgadultfemalelice          -0.9541      2.074     -0.460      0.646      -5.019       3.111\n",
      "avgmobilelice               -0.8796      0.838     -1.050      0.294      -2.522       0.762\n",
      "avgstationarylice           -0.1747      1.625     -0.107      0.914      -3.360       3.010\n",
      "mean_air_temperature         0.0882      0.044      2.011      0.044       0.002       0.174\n",
      "mean_relative_humidity       0.0067      0.011      0.611      0.541      -0.015       0.028\n",
      "mean_wind_speed              0.0097      0.048      0.199      0.842      -0.085       0.105\n",
      "sum_precipitation_amount    -0.0005      0.004     -0.126      0.900      -0.008       0.007\n",
      "ar.L1                        0.8986      0.164      5.463      0.000       0.576       1.221\n",
      "ma.L1                       -0.6221      0.290     -2.148      0.032      -1.190      -0.054\n",
      "sigma2                       0.2980      0.084      3.532      0.000       0.133       0.463\n",
      "===================================================================================\n",
      "Ljung-Box (L1) (Q):                   0.21   Jarque-Bera (JB):                 0.45\n",
      "Prob(Q):                              0.65   Prob(JB):                         0.80\n",
      "Heteroskedasticity (H):               0.91   Skew:                            -0.23\n",
      "Prob(H) (two-sided):                  0.84   Kurtosis:                         3.01\n",
      "===================================================================================\n",
      "\n",
      "Warnings:\n",
      "[1] Covariance matrix calculated using the outer product of gradients (complex-step).\n"
     ]
    },
    {
     "name": "stderr",
     "output_type": "stream",
     "text": [
      "c:\\Users\\dinus\\anaconda3\\envs\\IND320\\Lib\\site-packages\\statsmodels\\base\\model.py:607: ConvergenceWarning: Maximum Likelihood optimization failed to converge. Check mle_retvals\n",
      "  warnings.warn(\"Maximum Likelihood optimization failed to \"\n"
     ]
    }
   ],
   "source": [
    "import statsmodels.api as sm\n",
    "\n",
    "# SARIMAX model \n",
    "mod = sm.tsa.statespace.SARIMAX(df_sync['seatemperature'], df_sync[[\"avgadultfemalelice\", \"avgmobilelice\", \"avgstationarylice\", \"mean_air_temperature\", \"mean_relative_humidity\", \"mean_wind_speed\", \"sum_precipitation_amount\"]],\\\n",
    "    order=(1, 1, 1), seasonal_order=(0, 0, 0, 52), trend='c')\n",
    "res = mod.fit(disp=False)\n",
    "print(res.summary())"
   ]
  },
  {
   "cell_type": "code",
   "execution_count": 219,
   "metadata": {},
   "outputs": [
    {
     "name": "stderr",
     "output_type": "stream",
     "text": [
      "c:\\Users\\dinus\\anaconda3\\envs\\IND320\\Lib\\site-packages\\statsmodels\\tsa\\statespace\\sarimax.py:966: UserWarning: Non-stationary starting autoregressive parameters found. Using zeros as starting parameters.\n",
      "  warn('Non-stationary starting autoregressive parameters'\n",
      "c:\\Users\\dinus\\anaconda3\\envs\\IND320\\Lib\\site-packages\\statsmodels\\tsa\\statespace\\sarimax.py:978: UserWarning: Non-invertible starting MA parameters found. Using zeros as starting parameters.\n",
      "  warn('Non-invertible starting MA parameters found.'\n"
     ]
    },
    {
     "name": "stdout",
     "output_type": "stream",
     "text": [
      "                               SARIMAX Results                                \n",
      "==============================================================================\n",
      "Dep. Variable:         seatemperature   No. Observations:                   51\n",
      "Model:               SARIMAX(1, 1, 1)   Log Likelihood                 -27.844\n",
      "Date:                Thu, 09 Nov 2023   AIC                             91.687\n",
      "Time:                        13:25:51   BIC                            126.104\n",
      "Sample:                    11-13-2022   HQIC                           104.793\n",
      "                         - 10-29-2023                                         \n",
      "Covariance Type:                  opg                                         \n",
      "================================================================================================\n",
      "                                   coef    std err          z      P>|z|      [0.025      0.975]\n",
      "------------------------------------------------------------------------------------------------\n",
      "intercept                        0.0195      0.148      0.131      0.896      -0.271       0.310\n",
      "avgadultfemalelice               0.7280      2.187      0.333      0.739      -3.558       5.014\n",
      "avgmobilelice                   -0.6931      0.899     -0.771      0.441      -2.455       1.069\n",
      "avgstationarylice                0.5552      3.713      0.150      0.881      -6.723       7.833\n",
      "mean_air_temperature             0.1832      0.073      2.494      0.013       0.039       0.327\n",
      "mean_relative_humidity           0.0084      0.012      0.695      0.487      -0.015       0.032\n",
      "mean_wind_speed                 -0.0069      0.069     -0.101      0.920      -0.142       0.128\n",
      "sum_precipitation_amount         0.0024      0.005      0.435      0.664      -0.008       0.013\n",
      "avgmobilelice_lag               -0.2362      0.727     -0.325      0.745      -1.660       1.188\n",
      "avgadultfemalelice_lag           0.9072      1.781      0.509      0.610      -2.584       4.398\n",
      "avgstationarylice_lag            0.2747      3.560      0.077      0.939      -6.704       7.253\n",
      "mean_air_temperature_lag         0.1821      0.050      3.640      0.000       0.084       0.280\n",
      "mean_wind_speed_lag             -0.0182      0.066     -0.276      0.782      -0.147       0.111\n",
      "mean_relative_humidity_lag       0.0106      0.013      0.837      0.403      -0.014       0.036\n",
      "sum_precipitation_amount_lag     0.0023      0.007      0.328      0.743      -0.012       0.016\n",
      "ar.L1                           -0.0204      8.694     -0.002      0.998     -17.060      17.019\n",
      "ma.L1                           -0.0106      8.686     -0.001      0.999     -17.034      17.013\n",
      "sigma2                           0.1783      0.061      2.905      0.004       0.058       0.299\n",
      "===================================================================================\n",
      "Ljung-Box (L1) (Q):                   0.00   Jarque-Bera (JB):                 0.47\n",
      "Prob(Q):                              1.00   Prob(JB):                         0.79\n",
      "Heteroskedasticity (H):               1.41   Skew:                            -0.03\n",
      "Prob(H) (two-sided):                  0.48   Kurtosis:                         2.53\n",
      "===================================================================================\n",
      "\n",
      "Warnings:\n",
      "[1] Covariance matrix calculated using the outer product of gradients (complex-step).\n"
     ]
    },
    {
     "name": "stderr",
     "output_type": "stream",
     "text": [
      "c:\\Users\\dinus\\anaconda3\\envs\\IND320\\Lib\\site-packages\\statsmodels\\base\\model.py:607: ConvergenceWarning: Maximum Likelihood optimization failed to converge. Check mle_retvals\n",
      "  warnings.warn(\"Maximum Likelihood optimization failed to \"\n"
     ]
    }
   ],
   "source": [
    "# SARIMAX model again with lagged variables\n",
    "\n",
    "mod = sm.tsa.statespace.SARIMAX(df_sync['seatemperature'],\\\n",
    "    df_sync[[\"avgadultfemalelice\", \"avgmobilelice\", \"avgstationarylice\", \"mean_air_temperature\", \"mean_relative_humidity\", \"mean_wind_speed\", \"sum_precipitation_amount\", \"avgmobilelice_lag\", \"avgadultfemalelice_lag\", \"avgstationarylice_lag\",\"mean_air_temperature_lag\",\"mean_wind_speed_lag\",\"mean_relative_humidity_lag\", \"sum_precipitation_amount_lag\"]],\\\n",
    "    order=(1, 1, 1), seasonal_order=(0, 0, 0, 52), trend='c')\n",
    "res = mod.fit(disp=False)\n",
    "print(res.summary())"
   ]
  },
  {
   "cell_type": "code",
   "execution_count": 220,
   "metadata": {},
   "outputs": [
    {
     "name": "stderr",
     "output_type": "stream",
     "text": [
      "c:\\Users\\dinus\\anaconda3\\envs\\IND320\\Lib\\site-packages\\statsmodels\\tsa\\statespace\\sarimax.py:966: UserWarning: Non-stationary starting autoregressive parameters found. Using zeros as starting parameters.\n",
      "  warn('Non-stationary starting autoregressive parameters'\n",
      "c:\\Users\\dinus\\anaconda3\\envs\\IND320\\Lib\\site-packages\\statsmodels\\tsa\\statespace\\sarimax.py:978: UserWarning: Non-invertible starting MA parameters found. Using zeros as starting parameters.\n",
      "  warn('Non-invertible starting MA parameters found.'\n"
     ]
    },
    {
     "name": "stdout",
     "output_type": "stream",
     "text": [
      "                               SARIMAX Results                                \n",
      "==============================================================================\n",
      "Dep. Variable:         seatemperature   No. Observations:                   51\n",
      "Model:               SARIMAX(1, 1, 1)   Log Likelihood                 -26.698\n",
      "Date:                Thu, 09 Nov 2023   AIC                             71.396\n",
      "Time:                        13:25:52   BIC                             88.605\n",
      "Sample:                    11-13-2022   HQIC                            77.949\n",
      "                         - 10-29-2023                                         \n",
      "Covariance Type:                  opg                                         \n",
      "==============================================================================================\n",
      "                                 coef    std err          z      P>|z|      [0.025      0.975]\n",
      "----------------------------------------------------------------------------------------------\n",
      "intercept                     -0.0037      0.016     -0.227      0.821      -0.036       0.029\n",
      "avgmobilelice                 -0.6741      0.436     -1.547      0.122      -1.528       0.180\n",
      "mean_air_temperature           0.1547      0.053      2.931      0.003       0.051       0.258\n",
      "mean_relative_humidity         0.0120      0.008      1.456      0.145      -0.004       0.028\n",
      "mean_air_temperature_lag       0.1479      0.039      3.823      0.000       0.072       0.224\n",
      "mean_relative_humidity_lag     0.0138      0.010      1.317      0.188      -0.007       0.034\n",
      "ar.L1                          0.8970      0.196      4.566      0.000       0.512       1.282\n",
      "ma.L1                         -0.7384      0.322     -2.290      0.022      -1.370      -0.106\n",
      "sigma2                         0.1695      0.042      4.051      0.000       0.087       0.251\n",
      "===================================================================================\n",
      "Ljung-Box (L1) (Q):                   1.13   Jarque-Bera (JB):                 0.82\n",
      "Prob(Q):                              0.29   Prob(JB):                         0.66\n",
      "Heteroskedasticity (H):               1.46   Skew:                             0.30\n",
      "Prob(H) (two-sided):                  0.44   Kurtosis:                         3.16\n",
      "===================================================================================\n",
      "\n",
      "Warnings:\n",
      "[1] Covariance matrix calculated using the outer product of gradients (complex-step).\n"
     ]
    },
    {
     "name": "stderr",
     "output_type": "stream",
     "text": [
      "c:\\Users\\dinus\\anaconda3\\envs\\IND320\\Lib\\site-packages\\statsmodels\\base\\model.py:607: ConvergenceWarning: Maximum Likelihood optimization failed to converge. Check mle_retvals\n",
      "  warnings.warn(\"Maximum Likelihood optimization failed to \"\n"
     ]
    }
   ],
   "source": [
    "# removed everything above 0.4 in P>|z| and rerun the model\n",
    "mod = sm.tsa.statespace.SARIMAX(df_sync['seatemperature'],\\\n",
    "    df_sync[[ \"avgmobilelice\", \"mean_air_temperature\", \"mean_relative_humidity\",\"mean_air_temperature_lag\",\"mean_relative_humidity_lag\"]],\\\n",
    "    order=(1, 1, 1), seasonal_order=(0, 0, 0, 52), trend='c')\n",
    "res = mod.fit(disp=False)\n",
    "print(res.summary())\n",
    "\n",
    "# this gave better AIC values"
   ]
  }
 ],
 "metadata": {
  "kernelspec": {
   "display_name": "IND320",
   "language": "python",
   "name": "python3"
  },
  "language_info": {
   "codemirror_mode": {
    "name": "ipython",
    "version": 3
   },
   "file_extension": ".py",
   "mimetype": "text/x-python",
   "name": "python",
   "nbconvert_exporter": "python",
   "pygments_lexer": "ipython3",
   "version": "3.11.4"
  }
 },
 "nbformat": 4,
 "nbformat_minor": 2
}
