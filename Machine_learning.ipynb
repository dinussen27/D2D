{
 "cells": [
  {
   "cell_type": "code",
   "execution_count": 1,
   "metadata": {},
   "outputs": [],
   "source": [
    "import os\n",
    "os.environ[\"JAVA_HOME\"] = \"C:\\Program Files\\Java\\jdk-20\"\n",
    "# If you are using environments in Python, you can set the environment variables like this:\n",
    "os.environ[\"PYSPARK_PYTHON\"] = \"python\" # or similar to \"/Users/kristian/miniforge3/envs/tf_M1/bin/python\"\n",
    "#os.environ[\"PYSPARK_DRIVER_PYTHON\"] = \"python\" # or similar to \"/Users/kristian/miniforge3/envs/tf_M1/bin/python\"\n",
    "# Set the Hadoop version to the one you are using, e.g., none:\n",
    "#os.environ[\"PYSPARK_HADOOP_VERSION\"] = \"without\""
   ]
  },
  {
   "cell_type": "code",
   "execution_count": 2,
   "metadata": {},
   "outputs": [],
   "source": [
    "from pyspark.sql import SparkSession\n",
    "spark = SparkSession.builder.appName('SparkCassandraApp').\\\n",
    "    config('spark.jars.packages', 'com.datastax.spark:spark-cassandra-connector_2.12:3.4.1').\\\n",
    "    config('spark.cassandra.connection.host', 'localhost').\\\n",
    "    config('spark.sql.extensions', 'com.datastax.spark.connector.CassandraSparkExtensions').\\\n",
    "    config('spark.sql.catalog.mycatalog', 'com.datastax.spark.connector.datasource.CassandraCatalog').\\\n",
    "    config('spark.cassandra.connection.port', '9042').getOrCreate()\n",
    "# Some warnings are to be expected."
   ]
  },
  {
   "cell_type": "code",
   "execution_count": 3,
   "metadata": {},
   "outputs": [],
   "source": [
    "# Import necessary libraries\n",
    "import pandas as pd\n",
    "import numpy as np\n",
    "import matplotlib.pyplot as plt\n",
    "from ipywidgets import interact"
   ]
  },
  {
   "cell_type": "markdown",
   "metadata": {},
   "source": [
    "<h1> Pivioting"
   ]
  },
  {
   "cell_type": "code",
   "execution_count": 4,
   "metadata": {},
   "outputs": [],
   "source": [
    "# Connecting to Cassandra\n",
    "from cassandra.cluster import Cluster\n",
    "cluster = Cluster(['localhost'], port=9042)\n",
    "session = cluster.connect()"
   ]
  },
  {
   "cell_type": "code",
   "execution_count": 5,
   "metadata": {},
   "outputs": [
    {
     "data": {
      "text/plain": [
       "<cassandra.cluster.ResultSet at 0x25bbda91d90>"
      ]
     },
     "execution_count": 5,
     "metadata": {},
     "output_type": "execute_result"
    }
   ],
   "source": [
    "# Creating a keyspace\n",
    "session.execute(\"CREATE KEYSPACE IF NOT EXISTS fish_keyspace WITH REPLICATION = { 'class' : 'SimpleStrategy', 'replication_factor' : 1 };\")"
   ]
  },
  {
   "cell_type": "code",
   "execution_count": 6,
   "metadata": {},
   "outputs": [],
   "source": [
    "# set keyspace\n",
    "session.set_keyspace('fish_keyspace')"
   ]
  },
  {
   "cell_type": "code",
   "execution_count": 7,
   "metadata": {},
   "outputs": [
    {
     "name": "stdout",
     "output_type": "stream",
     "text": [
      "+--------------+------------------+----------+----------------------+------+--------------------+-----+---------------+-------------+----------------------+-------------------+--------+--------+----------------------+---------+----------+---------+------------+--------------+-------------------+----+----+\n",
      "|localityweekid|avgadultfemalelice|      date|hascleanerfishdeployed|hasila|hasmechanicalremoval|haspd|hasreportedlice|hassalmonoids|hassubstancetreatments|infilteredselection|isfallow|isonland|isslaughterholdingcage|      lat|localityno|      lon|municipality|municipalityno|               name|week|year|\n",
      "+--------------+------------------+----------+----------------------+------+--------------------+-----+---------------+-------------+----------------------+-------------------+--------+--------+----------------------+---------+----------+---------+------------+--------------+-------------------+----+----+\n",
      "|       1293141|               0.1|2021-09-06|                 false| false|               false|false|           true|         true|                 false|               true|   false|   false|                 false| 68.19825|     11290|16.134117|     Hamarøy|          1875|         Stormneset|  36|2021|\n",
      "|       1274062|              null|2021-07-19|                 false| false|               false|false|          false|         true|                 false|               true|    true|   false|                 false|66.769483|     11144|13.171383|       Rødøy|          1836|            Svinvær|  29|2021|\n",
      "|       1280754|              null|2021-08-02|                 false| false|               false|false|          false|         true|                 false|               true|    true|   false|                  true|  68.9027|     11416| 15.28675|      Øksnes|          1868|             Alsvåg|  31|2021|\n",
      "|       1201413|              null|2021-02-15|                 false| false|               false|false|          false|         true|                 false|               true|    true|   false|                 false|  69.8674|     10768|18.918567|      Tromsø|          5401|     Indre Kårvik I|   7|2021|\n",
      "|       1271805|               0.2|2021-07-12|                 false| false|               false|false|           true|         true|                 false|               true|   false|   false|                 false| 63.97185|     31958| 9.954783|      Åfjord|          5058|            Ratvika|  28|2021|\n",
      "|       1321548|              null|2021-11-08|                 false| false|               false|false|          false|         true|                 false|               true|    true|   false|                 false| 68.87695|     30917|16.287383|     Harstad|          5402|              Elgen|  45|2021|\n",
      "|       1311279|              null|2021-10-18|                 false| false|               false|false|          false|        false|                 false|               true|    true|   false|                 false|65.665283|     10435|12.650017|   Vevelstad|          1816|          Stakkvika|  42|2021|\n",
      "|       1269561|              null|2021-07-05|                 false| false|               false|false|          false|         true|                 false|               true|    true|   false|                  true|  70.0345|     27737| 20.99055|    Skjervøy|          5427|           Skjervøy|  27|2021|\n",
      "|       1291309|              null|2021-08-30|                 false| false|               false|false|          false|        false|                 false|               true|    true|   false|                 false|59.504717|     11517| 5.240183|       Sveio|          4612|            Trettøy|  35|2021|\n",
      "|       1289243|              null|2021-08-23|                 false| false|               false|false|          false|        false|                 false|               true|    true|   false|                 false| 61.09385|     36098| 5.838433|    Høyanger|          4638|Bjønnspjotneset III|  34|2021|\n",
      "|       1193456|              0.29|2021-01-25|                 false| false|               false|false|           true|         true|                 false|               true|   false|   false|                 false| 64.60255|     21676|10.854067|   Flatanger|          5049|         Kråkholmen|   4|2021|\n",
      "|       1237803|              0.12|2021-04-26|                 false| false|               false|false|           true|         true|                 false|               true|   false|   false|                 false|  66.1609|     28336|12.681467|       Dønna|          1827|           Breivika|  17|2021|\n",
      "|       1258874|              null|2021-06-14|                 false| false|               false| true|          false|         true|                 false|               true|    true|   false|                 false|59.183483|     13221|  5.94915|   Stavanger|          1103|            Nautvik|  24|2021|\n",
      "|       1267787|              null|2021-07-05|                 false| false|               false|false|          false|         true|                 false|               true|    true|   false|                 false|64.838383|     12590|10.665517|   Nærøysund|          5060|       Helligholmen|  27|2021|\n",
      "|       1190535|               0.3|2021-01-18|                 false| false|                true|false|           true|         true|                 false|               true|   false|   false|                 false|60.542833|     11652|   5.0378|       Alver|          4631|    Kjeppevikholmen|   3|2021|\n",
      "|       1240318|              null|2021-05-03|                 false| false|               false|false|          false|         true|                 false|               true|    true|   false|                 false|69.730633|     29458|18.653583|      Tromsø|          5401|        Blåmannsvik|  18|2021|\n",
      "|       1324044|              null|2021-11-15|                 false| false|               false|false|          false|         true|                 false|               true|    true|   false|                 false| 60.83205|     30196| 5.355017|  Masfjorden|          4634|         Ådnekvamme|  46|2021|\n",
      "|       1332013|              0.01|2021-12-06|                 false| false|               false|false|           true|         true|                 false|               true|   false|   false|                 false|64.184517|     24575|  10.1222|      Åfjord|          5058|        Farmannsøya|  49|2021|\n",
      "|       1279715|              null|2021-08-02|                 false| false|               false|false|          false|         true|                 false|               true|    true|   false|                 false|58.910083|     11922| 6.079483|      Strand|          1130|          Oanes Sjø|  31|2021|\n",
      "|       1321078|              0.05|2021-11-08|                  true| false|               false|false|           true|         true|                 false|               true|   false|   false|                 false|64.607433|     12678|11.354817|      Namsos|          5007|             Vedøya|  45|2021|\n",
      "+--------------+------------------+----------+----------------------+------+--------------------+-----+---------------+-------------+----------------------+-------------------+--------+--------+----------------------+---------+----------+---------+------------+--------------+-------------------+----+----+\n",
      "only showing top 20 rows\n",
      "\n"
     ]
    }
   ],
   "source": [
    "df_fish = spark.read.format(\"org.apache.spark.sql.cassandra\").options(table=\"fish_table_year\", keyspace=\"fish_keyspace\").load()\n",
    "df_fish.show()"
   ]
  },
  {
   "cell_type": "code",
   "execution_count": 8,
   "metadata": {},
   "outputs": [],
   "source": [
    "# Make spark dataframe to pandas dataframe\n",
    "df_fish = df_fish.toPandas()"
   ]
  },
  {
   "cell_type": "code",
   "execution_count": 9,
   "metadata": {},
   "outputs": [],
   "source": [
    "# Create a variable called region, splitting Norway into three regions: South - below 63.81 latitude, Middle - up to 68.85 latitude, North - above 68.85 latitude.\n",
    "df_fish['region'] = 'NaN'\n",
    "df_fish.loc[df_fish['lat'] < 63.81, 'region'] = 'South'\n",
    "df_fish.loc[(df_fish['lat'] >= 63.81) & (df_fish['lat'] <= 68.85), 'region'] = 'Middle'\n",
    "df_fish.loc[df_fish['lat'] > 68.85, 'region'] = 'North'"
   ]
  },
  {
   "cell_type": "code",
   "execution_count": 10,
   "metadata": {},
   "outputs": [],
   "source": [
    "# combine year and week into new column called year_week\n",
    "df_fish['year_week'] = df_fish['year'].astype(str) + '-' + df_fish['week'].astype(str)"
   ]
  },
  {
   "cell_type": "code",
   "execution_count": 11,
   "metadata": {},
   "outputs": [],
   "source": [
    "# Create the following \"Gropuby\"s: category: week and values: avgadultfemalelice\n",
    "df_fish_grouped = df_fish.groupby('year_week')['avgadultfemalelice'].mean().reset_index(name='avg_adult_female_lice')\n"
   ]
  },
  {
   "cell_type": "code",
   "execution_count": 12,
   "metadata": {},
   "outputs": [
    {
     "data": {
      "text/html": [
       "<div>\n",
       "<style scoped>\n",
       "    .dataframe tbody tr th:only-of-type {\n",
       "        vertical-align: middle;\n",
       "    }\n",
       "\n",
       "    .dataframe tbody tr th {\n",
       "        vertical-align: top;\n",
       "    }\n",
       "\n",
       "    .dataframe thead th {\n",
       "        text-align: right;\n",
       "    }\n",
       "</style>\n",
       "<table border=\"1\" class=\"dataframe\">\n",
       "  <thead>\n",
       "    <tr style=\"text-align: right;\">\n",
       "      <th></th>\n",
       "      <th>year_week</th>\n",
       "      <th>avg_adult_female_lice</th>\n",
       "    </tr>\n",
       "  </thead>\n",
       "  <tbody>\n",
       "    <tr>\n",
       "      <th>0</th>\n",
       "      <td>2021-1</td>\n",
       "      <td>0.161059</td>\n",
       "    </tr>\n",
       "    <tr>\n",
       "      <th>1</th>\n",
       "      <td>2021-10</td>\n",
       "      <td>0.152289</td>\n",
       "    </tr>\n",
       "    <tr>\n",
       "      <th>2</th>\n",
       "      <td>2021-11</td>\n",
       "      <td>0.150929</td>\n",
       "    </tr>\n",
       "    <tr>\n",
       "      <th>3</th>\n",
       "      <td>2021-12</td>\n",
       "      <td>0.141850</td>\n",
       "    </tr>\n",
       "    <tr>\n",
       "      <th>4</th>\n",
       "      <td>2021-13</td>\n",
       "      <td>0.130290</td>\n",
       "    </tr>\n",
       "  </tbody>\n",
       "</table>\n",
       "</div>"
      ],
      "text/plain": [
       "  year_week  avg_adult_female_lice\n",
       "0    2021-1               0.161059\n",
       "1   2021-10               0.152289\n",
       "2   2021-11               0.150929\n",
       "3   2021-12               0.141850\n",
       "4   2021-13               0.130290"
      ]
     },
     "execution_count": 12,
     "metadata": {},
     "output_type": "execute_result"
    }
   ],
   "source": [
    "df_fish_grouped.head()"
   ]
  },
  {
   "cell_type": "code",
   "execution_count": 13,
   "metadata": {},
   "outputs": [],
   "source": [
    "import pandas as pd\n",
    "# get the first date in each week and add it to the dataframe\n",
    "df_fish_grouped['date'] = pd.to_datetime(df_fish_grouped['year_week'] + '-1', format=\"%Y-%W-%w\")\n",
    "\n",
    "# have to groupby year_week since the data spans over two years"
   ]
  },
  {
   "cell_type": "code",
   "execution_count": 14,
   "metadata": {},
   "outputs": [
    {
     "data": {
      "text/html": [
       "<div>\n",
       "<style scoped>\n",
       "    .dataframe tbody tr th:only-of-type {\n",
       "        vertical-align: middle;\n",
       "    }\n",
       "\n",
       "    .dataframe tbody tr th {\n",
       "        vertical-align: top;\n",
       "    }\n",
       "\n",
       "    .dataframe thead th {\n",
       "        text-align: right;\n",
       "    }\n",
       "</style>\n",
       "<table border=\"1\" class=\"dataframe\">\n",
       "  <thead>\n",
       "    <tr style=\"text-align: right;\">\n",
       "      <th></th>\n",
       "      <th>year_week</th>\n",
       "      <th>avg_adult_female_lice</th>\n",
       "      <th>date</th>\n",
       "    </tr>\n",
       "  </thead>\n",
       "  <tbody>\n",
       "    <tr>\n",
       "      <th>0</th>\n",
       "      <td>2021-1</td>\n",
       "      <td>0.161059</td>\n",
       "      <td>2021-01-04</td>\n",
       "    </tr>\n",
       "    <tr>\n",
       "      <th>1</th>\n",
       "      <td>2021-10</td>\n",
       "      <td>0.152289</td>\n",
       "      <td>2021-03-08</td>\n",
       "    </tr>\n",
       "    <tr>\n",
       "      <th>2</th>\n",
       "      <td>2021-11</td>\n",
       "      <td>0.150929</td>\n",
       "      <td>2021-03-15</td>\n",
       "    </tr>\n",
       "    <tr>\n",
       "      <th>3</th>\n",
       "      <td>2021-12</td>\n",
       "      <td>0.141850</td>\n",
       "      <td>2021-03-22</td>\n",
       "    </tr>\n",
       "    <tr>\n",
       "      <th>4</th>\n",
       "      <td>2021-13</td>\n",
       "      <td>0.130290</td>\n",
       "      <td>2021-03-29</td>\n",
       "    </tr>\n",
       "  </tbody>\n",
       "</table>\n",
       "</div>"
      ],
      "text/plain": [
       "  year_week  avg_adult_female_lice       date\n",
       "0    2021-1               0.161059 2021-01-04\n",
       "1   2021-10               0.152289 2021-03-08\n",
       "2   2021-11               0.150929 2021-03-15\n",
       "3   2021-12               0.141850 2021-03-22\n",
       "4   2021-13               0.130290 2021-03-29"
      ]
     },
     "execution_count": 14,
     "metadata": {},
     "output_type": "execute_result"
    }
   ],
   "source": [
    "df_fish_grouped.head()"
   ]
  },
  {
   "cell_type": "code",
   "execution_count": 15,
   "metadata": {},
   "outputs": [
    {
     "data": {
      "text/plain": [
       "<Axes: xlabel='date'>"
      ]
     },
     "execution_count": 15,
     "metadata": {},
     "output_type": "execute_result"
    },
    {
     "data": {
      "image/png": "[encoded data removed]",
      "text/plain": [
       "<Figure size 640x480 with 1 Axes>"
      ]
     },
     "metadata": {},
     "output_type": "display_data"
    }
   ],
   "source": [
    "# plot the df_fish_grouped dataframe\n",
    "import matplotlib.pyplot as plt\n",
    "\n",
    "df_fish_grouped.plot(x='date', y='avg_adult_female_lice')\n"
   ]
  },
  {
   "cell_type": "code",
   "execution_count": 16,
   "metadata": {},
   "outputs": [],
   "source": [
    "# Create the following piviot tables:\n",
    "# category: haspd and haslla, values: lat\n",
    "\n",
    "df_fish_pivot = df_fish.pivot_table(index='year_week', values=['haspd', 'hasila'], aggfunc='mean').reset_index()"
   ]
  },
  {
   "cell_type": "code",
   "execution_count": 17,
   "metadata": {},
   "outputs": [
    {
     "data": {
      "text/html": [
       "<div>\n",
       "<style scoped>\n",
       "    .dataframe tbody tr th:only-of-type {\n",
       "        vertical-align: middle;\n",
       "    }\n",
       "\n",
       "    .dataframe tbody tr th {\n",
       "        vertical-align: top;\n",
       "    }\n",
       "\n",
       "    .dataframe thead th {\n",
       "        text-align: right;\n",
       "    }\n",
       "</style>\n",
       "<table border=\"1\" class=\"dataframe\">\n",
       "  <thead>\n",
       "    <tr style=\"text-align: right;\">\n",
       "      <th></th>\n",
       "      <th>year_week</th>\n",
       "      <th>hasila</th>\n",
       "      <th>haspd</th>\n",
       "    </tr>\n",
       "  </thead>\n",
       "  <tbody>\n",
       "    <tr>\n",
       "      <th>0</th>\n",
       "      <td>2021-1</td>\n",
       "      <td>0.009434</td>\n",
       "      <td>0.078420</td>\n",
       "    </tr>\n",
       "    <tr>\n",
       "      <th>1</th>\n",
       "      <td>2021-10</td>\n",
       "      <td>0.008211</td>\n",
       "      <td>0.075660</td>\n",
       "    </tr>\n",
       "    <tr>\n",
       "      <th>2</th>\n",
       "      <td>2021-11</td>\n",
       "      <td>0.008211</td>\n",
       "      <td>0.076246</td>\n",
       "    </tr>\n",
       "    <tr>\n",
       "      <th>3</th>\n",
       "      <td>2021-12</td>\n",
       "      <td>0.008798</td>\n",
       "      <td>0.074487</td>\n",
       "    </tr>\n",
       "    <tr>\n",
       "      <th>4</th>\n",
       "      <td>2021-13</td>\n",
       "      <td>0.008798</td>\n",
       "      <td>0.072727</td>\n",
       "    </tr>\n",
       "  </tbody>\n",
       "</table>\n",
       "</div>"
      ],
      "text/plain": [
       "  year_week    hasila     haspd\n",
       "0    2021-1  0.009434  0.078420\n",
       "1   2021-10  0.008211  0.075660\n",
       "2   2021-11  0.008211  0.076246\n",
       "3   2021-12  0.008798  0.074487\n",
       "4   2021-13  0.008798  0.072727"
      ]
     },
     "execution_count": 17,
     "metadata": {},
     "output_type": "execute_result"
    }
   ],
   "source": [
    "df_fish_pivot.head()"
   ]
  },
  {
   "cell_type": "code",
   "execution_count": 18,
   "metadata": {},
   "outputs": [],
   "source": [
    "# get the first date in each week and add it to the dataframe\n",
    "df_fish_pivot['date'] = pd.to_datetime(df_fish_pivot['year_week'] + '-1', format=\"%Y-%W-%w\")"
   ]
  },
  {
   "cell_type": "code",
   "execution_count": 19,
   "metadata": {},
   "outputs": [
    {
     "data": {
      "text/html": [
       "<div>\n",
       "<style scoped>\n",
       "    .dataframe tbody tr th:only-of-type {\n",
       "        vertical-align: middle;\n",
       "    }\n",
       "\n",
       "    .dataframe tbody tr th {\n",
       "        vertical-align: top;\n",
       "    }\n",
       "\n",
       "    .dataframe thead th {\n",
       "        text-align: right;\n",
       "    }\n",
       "</style>\n",
       "<table border=\"1\" class=\"dataframe\">\n",
       "  <thead>\n",
       "    <tr style=\"text-align: right;\">\n",
       "      <th></th>\n",
       "      <th>year_week</th>\n",
       "      <th>hasila</th>\n",
       "      <th>haspd</th>\n",
       "      <th>date</th>\n",
       "    </tr>\n",
       "  </thead>\n",
       "  <tbody>\n",
       "    <tr>\n",
       "      <th>0</th>\n",
       "      <td>2021-1</td>\n",
       "      <td>0.009434</td>\n",
       "      <td>0.078420</td>\n",
       "      <td>2021-01-04</td>\n",
       "    </tr>\n",
       "    <tr>\n",
       "      <th>1</th>\n",
       "      <td>2021-10</td>\n",
       "      <td>0.008211</td>\n",
       "      <td>0.075660</td>\n",
       "      <td>2021-03-08</td>\n",
       "    </tr>\n",
       "    <tr>\n",
       "      <th>2</th>\n",
       "      <td>2021-11</td>\n",
       "      <td>0.008211</td>\n",
       "      <td>0.076246</td>\n",
       "      <td>2021-03-15</td>\n",
       "    </tr>\n",
       "    <tr>\n",
       "      <th>3</th>\n",
       "      <td>2021-12</td>\n",
       "      <td>0.008798</td>\n",
       "      <td>0.074487</td>\n",
       "      <td>2021-03-22</td>\n",
       "    </tr>\n",
       "    <tr>\n",
       "      <th>4</th>\n",
       "      <td>2021-13</td>\n",
       "      <td>0.008798</td>\n",
       "      <td>0.072727</td>\n",
       "      <td>2021-03-29</td>\n",
       "    </tr>\n",
       "  </tbody>\n",
       "</table>\n",
       "</div>"
      ],
      "text/plain": [
       "  year_week    hasila     haspd       date\n",
       "0    2021-1  0.009434  0.078420 2021-01-04\n",
       "1   2021-10  0.008211  0.075660 2021-03-08\n",
       "2   2021-11  0.008211  0.076246 2021-03-15\n",
       "3   2021-12  0.008798  0.074487 2021-03-22\n",
       "4   2021-13  0.008798  0.072727 2021-03-29"
      ]
     },
     "execution_count": 19,
     "metadata": {},
     "output_type": "execute_result"
    }
   ],
   "source": [
    "df_fish_pivot.head()"
   ]
  },
  {
   "cell_type": "code",
   "execution_count": 20,
   "metadata": {},
   "outputs": [
    {
     "data": {
      "text/plain": [
       "<Axes: xlabel='date'>"
      ]
     },
     "execution_count": 20,
     "metadata": {},
     "output_type": "execute_result"
    },
    {
     "data": {
      "image/png": "[encoded data removed]",
      "text/plain": [
       "<Figure size 640x480 with 1 Axes>"
      ]
     },
     "metadata": {},
     "output_type": "display_data"
    }
   ],
   "source": [
    "# plot the df_fish_pivot dataframe\n",
    "df_fish_pivot.plot(x='date', y=['haspd', 'hasila'])"
   ]
  },
  {
   "cell_type": "code",
   "execution_count": 21,
   "metadata": {},
   "outputs": [
    {
     "data": {
      "image/png": "[encoded data removed]",
      "text/plain": [
       "<Figure size 640x480 with 1 Axes>"
      ]
     },
     "metadata": {},
     "output_type": "display_data"
    },
    {
     "data": {
      "image/png": "[encoded data removed]",
      "text/plain": [
       "<Figure size 640x480 with 1 Axes>"
      ]
     },
     "metadata": {},
     "output_type": "display_data"
    }
   ],
   "source": [
    "# Plot indepentently\n",
    "df_fish_pivot.plot(x='date', y='haspd')\n",
    "df_fish_pivot.plot(x='date', y='hasila')\n",
    "\n",
    "plt.show()"
   ]
  },
  {
   "cell_type": "code",
   "execution_count": 22,
   "metadata": {},
   "outputs": [],
   "source": [
    "# Create the following piviot tables:\n",
    "\n",
    "# Category: region and year_week, values: avgadultfemalelice\n",
    "\n",
    "df_fish_pivot2 = df_fish.pivot_table(index=['region', 'year_week'], values='avgadultfemalelice', aggfunc='mean').reset_index()\n",
    "\n",
    "# Get the first date in each week and add it to the dataframe\n",
    "df_fish_pivot2['date'] = pd.to_datetime(df_fish_pivot2['year_week'] + '-1', format=\"%Y-%W-%w\")"
   ]
  },
  {
   "cell_type": "code",
   "execution_count": 23,
   "metadata": {},
   "outputs": [
    {
     "data": {
      "text/plain": [
       "<Axes: xlabel='date', ylabel='avgadultfemalelice'>"
      ]
     },
     "execution_count": 23,
     "metadata": {},
     "output_type": "execute_result"
    },
    {
     "data": {
      "image/png": "[encoded data removed]",
      "text/plain": [
       "<Figure size 640x480 with 1 Axes>"
      ]
     },
     "metadata": {},
     "output_type": "display_data"
    }
   ],
   "source": [
    "# Plot the df_fish_pivot2 dataframe with region as hue\n",
    "import seaborn as sns\n",
    "sns.lineplot(data=df_fish_pivot2, x='date', y='avgadultfemalelice', hue='region')\n",
    "\n",
    "# you can see that the middle and north regions follows the south region with a delay of 1-2 months."
   ]
  },
  {
   "cell_type": "markdown",
   "metadata": {},
   "source": [
    "<h1> Forecasting"
   ]
  },
  {
   "cell_type": "code",
   "execution_count": 24,
   "metadata": {},
   "outputs": [
    {
     "data": {
      "text/html": [
       "<div>\n",
       "<style scoped>\n",
       "    .dataframe tbody tr th:only-of-type {\n",
       "        vertical-align: middle;\n",
       "    }\n",
       "\n",
       "    .dataframe tbody tr th {\n",
       "        vertical-align: top;\n",
       "    }\n",
       "\n",
       "    .dataframe thead th {\n",
       "        text-align: right;\n",
       "    }\n",
       "</style>\n",
       "<table border=\"1\" class=\"dataframe\">\n",
       "  <thead>\n",
       "    <tr style=\"text-align: right;\">\n",
       "      <th></th>\n",
       "      <th>year_week</th>\n",
       "      <th>avgadultfemalelice</th>\n",
       "      <th>avgmobilelice</th>\n",
       "      <th>avgstationarylice</th>\n",
       "      <th>localityname</th>\n",
       "      <th>seatemperature</th>\n",
       "      <th>specieslist</th>\n",
       "      <th>week</th>\n",
       "      <th>year</th>\n",
       "    </tr>\n",
       "  </thead>\n",
       "  <tbody>\n",
       "    <tr>\n",
       "      <th>0</th>\n",
       "      <td>2021-02-15</td>\n",
       "      <td>0.06</td>\n",
       "      <td>0.54</td>\n",
       "      <td>0.09</td>\n",
       "      <td>Andholmen 1</td>\n",
       "      <td>4.8</td>\n",
       "      <td>['Laks', 'Ørret', 'Regnbueørret']</td>\n",
       "      <td>7</td>\n",
       "      <td>2021</td>\n",
       "    </tr>\n",
       "    <tr>\n",
       "      <th>1</th>\n",
       "      <td>2021-10-25</td>\n",
       "      <td>0.44</td>\n",
       "      <td>0.65</td>\n",
       "      <td>0.06</td>\n",
       "      <td>Andholmen 1</td>\n",
       "      <td>11.0</td>\n",
       "      <td>['Laks', 'Ørret', 'Regnbueørret']</td>\n",
       "      <td>43</td>\n",
       "      <td>2021</td>\n",
       "    </tr>\n",
       "    <tr>\n",
       "      <th>2</th>\n",
       "      <td>2021-02-01</td>\n",
       "      <td>0.02</td>\n",
       "      <td>0.91</td>\n",
       "      <td>0.06</td>\n",
       "      <td>Andholmen 1</td>\n",
       "      <td>5.1</td>\n",
       "      <td>['Laks', 'Ørret', 'Regnbueørret']</td>\n",
       "      <td>5</td>\n",
       "      <td>2021</td>\n",
       "    </tr>\n",
       "    <tr>\n",
       "      <th>3</th>\n",
       "      <td>2021-10-11</td>\n",
       "      <td>0.38</td>\n",
       "      <td>0.68</td>\n",
       "      <td>0.06</td>\n",
       "      <td>Andholmen 1</td>\n",
       "      <td>11.7</td>\n",
       "      <td>['Laks', 'Ørret', 'Regnbueørret']</td>\n",
       "      <td>41</td>\n",
       "      <td>2021</td>\n",
       "    </tr>\n",
       "    <tr>\n",
       "      <th>4</th>\n",
       "      <td>2021-08-16</td>\n",
       "      <td>0.48</td>\n",
       "      <td>1.42</td>\n",
       "      <td>0.06</td>\n",
       "      <td>Andholmen 1</td>\n",
       "      <td>14.3</td>\n",
       "      <td>['Laks', 'Ørret', 'Regnbueørret']</td>\n",
       "      <td>33</td>\n",
       "      <td>2021</td>\n",
       "    </tr>\n",
       "  </tbody>\n",
       "</table>\n",
       "</div>"
      ],
      "text/plain": [
       "    year_week  avgadultfemalelice  avgmobilelice  avgstationarylice  \\\n",
       "0  2021-02-15                0.06           0.54               0.09   \n",
       "1  2021-10-25                0.44           0.65               0.06   \n",
       "2  2021-02-01                0.02           0.91               0.06   \n",
       "3  2021-10-11                0.38           0.68               0.06   \n",
       "4  2021-08-16                0.48           1.42               0.06   \n",
       "\n",
       "  localityname  seatemperature                        specieslist  week  year  \n",
       "0  Andholmen 1             4.8  ['Laks', 'Ørret', 'Regnbueørret']     7  2021  \n",
       "1  Andholmen 1            11.0  ['Laks', 'Ørret', 'Regnbueørret']    43  2021  \n",
       "2  Andholmen 1             5.1  ['Laks', 'Ørret', 'Regnbueørret']     5  2021  \n",
       "3  Andholmen 1            11.7  ['Laks', 'Ørret', 'Regnbueørret']    41  2021  \n",
       "4  Andholmen 1            14.3  ['Laks', 'Ørret', 'Regnbueørret']    33  2021  "
      ]
     },
     "execution_count": 24,
     "metadata": {},
     "output_type": "execute_result"
    }
   ],
   "source": [
    "# Read from Cassandra - lice_count_table\n",
    "df_lice = spark.read.format(\"org.apache.spark.sql.cassandra\").options(table=\"lice_count_table\", keyspace=\"fish_keyspace\").load()\n",
    "\n",
    "# make spark dataframe to pandas dataframe\n",
    "df_lice = df_lice.toPandas()\n",
    "df_lice.head()"
   ]
  },
  {
   "cell_type": "code",
   "execution_count": 25,
   "metadata": {},
   "outputs": [
    {
     "data": {
      "text/html": [
       "<div>\n",
       "<style scoped>\n",
       "    .dataframe tbody tr th:only-of-type {\n",
       "        vertical-align: middle;\n",
       "    }\n",
       "\n",
       "    .dataframe tbody tr th {\n",
       "        vertical-align: top;\n",
       "    }\n",
       "\n",
       "    .dataframe thead th {\n",
       "        text-align: right;\n",
       "    }\n",
       "</style>\n",
       "<table border=\"1\" class=\"dataframe\">\n",
       "  <thead>\n",
       "    <tr style=\"text-align: right;\">\n",
       "      <th></th>\n",
       "      <th>year_week</th>\n",
       "      <th>avgadultfemalelice</th>\n",
       "      <th>avgmobilelice</th>\n",
       "      <th>avgstationarylice</th>\n",
       "      <th>seatemperature</th>\n",
       "    </tr>\n",
       "  </thead>\n",
       "  <tbody>\n",
       "    <tr>\n",
       "      <th>0</th>\n",
       "      <td>2021-02-15</td>\n",
       "      <td>0.06</td>\n",
       "      <td>0.54</td>\n",
       "      <td>0.09</td>\n",
       "      <td>4.8</td>\n",
       "    </tr>\n",
       "    <tr>\n",
       "      <th>1</th>\n",
       "      <td>2021-10-25</td>\n",
       "      <td>0.44</td>\n",
       "      <td>0.65</td>\n",
       "      <td>0.06</td>\n",
       "      <td>11.0</td>\n",
       "    </tr>\n",
       "    <tr>\n",
       "      <th>2</th>\n",
       "      <td>2021-02-01</td>\n",
       "      <td>0.02</td>\n",
       "      <td>0.91</td>\n",
       "      <td>0.06</td>\n",
       "      <td>5.1</td>\n",
       "    </tr>\n",
       "    <tr>\n",
       "      <th>3</th>\n",
       "      <td>2021-10-11</td>\n",
       "      <td>0.38</td>\n",
       "      <td>0.68</td>\n",
       "      <td>0.06</td>\n",
       "      <td>11.7</td>\n",
       "    </tr>\n",
       "    <tr>\n",
       "      <th>4</th>\n",
       "      <td>2021-08-16</td>\n",
       "      <td>0.48</td>\n",
       "      <td>1.42</td>\n",
       "      <td>0.06</td>\n",
       "      <td>14.3</td>\n",
       "    </tr>\n",
       "  </tbody>\n",
       "</table>\n",
       "</div>"
      ],
      "text/plain": [
       "    year_week  avgadultfemalelice  avgmobilelice  avgstationarylice  \\\n",
       "0  2021-02-15                0.06           0.54               0.09   \n",
       "1  2021-10-25                0.44           0.65               0.06   \n",
       "2  2021-02-01                0.02           0.91               0.06   \n",
       "3  2021-10-11                0.38           0.68               0.06   \n",
       "4  2021-08-16                0.48           1.42               0.06   \n",
       "\n",
       "   seatemperature  \n",
       "0             4.8  \n",
       "1            11.0  \n",
       "2             5.1  \n",
       "3            11.7  \n",
       "4            14.3  "
      ]
     },
     "execution_count": 25,
     "metadata": {},
     "output_type": "execute_result"
    }
   ],
   "source": [
    "# Drop the following columns: localityname, specieslist, week and year in df_lice\n",
    "df_lice = df_lice.drop(['localityname', 'specieslist', 'week', 'year'], axis=1)\n",
    "df_lice.head()"
   ]
  },
  {
   "cell_type": "code",
   "execution_count": 26,
   "metadata": {},
   "outputs": [],
   "source": [
    "# Define the lagged correlation function\n",
    "def lagged_correlation(lag=0, seatemperature='seatemperature', licetype='avgadultfemalelice'):\n",
    "    y = df_lice[seatemperature]\n",
    "    x = df_lice[licetype]\n",
    "\n",
    "    # Apply the lag\n",
    "    x_lagged = x.shift(lag)  # Shift the lice data by 'lag'\n",
    "    valid_index = ~np.isnan(x_lagged) & ~np.isnan(y)  # Remove NaN values for correlation calculation\n",
    "    corr = np.corrcoef(y[valid_index], x_lagged[valid_index])[0, 1]\n",
    "    \n",
    "    # Print the result\n",
    "    print(f\"Correlation between {seatemperature} and {licetype} lagged {lag} timepoints: {corr:.3f}\")\n",
    "\n",
    "# Define the function to calculate and plot the sliding window correlation\n",
    "def plot_swc(center, window, seatemperature='seatemperature', licetype='avgadultfemalelice'):\n",
    "    y = df_lice[seatemperature]\n",
    "    x = df_lice[licetype]\n",
    "\n",
    "    # Calculate the sliding window correlation\n",
    "    swc = y.rolling(window, center=True).corr(x)\n",
    "\n",
    "    # Define the window bounds\n",
    "    window_start = max(center - window // 2, 0)\n",
    "    window_end = min(center + window // 2, len(df_lice))\n",
    "        \n",
    "    # Plot the data\n",
    "    plt.figure(figsize=(14, 7))\n",
    "\n",
    "    # Plot sea temperature\n",
    "    plt.subplot(3, 1, 1)\n",
    "    plt.plot(y.index, y, label=seatemperature)\n",
    "    plt.plot(y.index[window_start:window_end], y[window_start:window_end], 'r', label='Window Frame')\n",
    "    plt.ylabel(seatemperature)\n",
    "    plt.xlim(y.index.min(), y.index.max())\n",
    "\n",
    "    # Plot lice type\n",
    "    plt.subplot(3, 1, 2)\n",
    "    plt.plot(x.index, x, label=licetype)\n",
    "    plt.plot(x.index[window_start:window_end], x[window_start:window_end], 'r', label='Window Frame')\n",
    "    plt.ylabel(licetype)\n",
    "    plt.xlim(x.index.min(), x.index.max())\n",
    "\n",
    "    # Plot the sliding window correlation\n",
    "    plt.subplot(3, 1, 3)\n",
    "    plt.plot(swc.index, swc, label='SWC')\n",
    "    plt.axvline(x=swc.index[center], color='red', linestyle='--', label='Center')\n",
    "    plt.ylabel('SWC')\n",
    "    plt.axhline(y=0, color='gray', linestyle='--')\n",
    "    plt.ylim(-1, 1)\n",
    "    plt.xlim(swc.index.min(), swc.index.max())\n",
    "    plt.legend()\n",
    "    plt.tight_layout()\n",
    "    plt.show()"
   ]
  },
  {
   "cell_type": "code",
   "execution_count": 27,
   "metadata": {},
   "outputs": [
    {
     "data": {
      "application/vnd.jupyter.widget-view+json": {
       "model_id": "06177fba22e44b3f94be34077e95d556",
       "version_major": 2,
       "version_minor": 0
      },
      "text/plain": [
       "interactive(children=(IntSlider(value=26, description='center', max=51, min=1), IntSlider(value=26, descriptio…"
      ]
     },
     "metadata": {},
     "output_type": "display_data"
    },
    {
     "data": {
      "application/vnd.jupyter.widget-view+json": {
       "model_id": "e240865cc564491b8ff2b275be25d13e",
       "version_major": 2,
       "version_minor": 0
      },
      "text/plain": [
       "interactive(children=(IntSlider(value=0, description='lag', max=51), Dropdown(description='seatemperature', op…"
      ]
     },
     "metadata": {},
     "output_type": "display_data"
    },
    {
     "data": {
      "text/plain": [
       "<function __main__.lagged_correlation(lag=0, seatemperature='seatemperature', licetype='avgadultfemalelice')>"
      ]
     },
     "execution_count": 27,
     "metadata": {},
     "output_type": "execute_result"
    }
   ],
   "source": [
    "# Use interact to create the sliders and input options\n",
    "interact(plot_swc,\n",
    "         center=(1, len(df_lice)-1, 1),  # Center slider\n",
    "         window=(1, len(df_lice)-1, 1),  # Window size slider\n",
    "         seatemperature=['seatemperature'],  # Dropdown for sea temperature\n",
    "         licetype=['avgadultfemalelice', 'avgmobilelice', 'avgstationarylice'])  # Dropdown for lice types\n",
    "\n",
    "# Also update the interact function for lagged_correlation\n",
    "interact(lagged_correlation, lag=(0, len(df_lice)-1, 1),\n",
    "         seatemperature=['seatemperature'],\n",
    "         licetype=['avgadultfemalelice', 'avgmobilelice', 'avgstationarylice'])"
   ]
  },
  {
   "cell_type": "markdown",
   "metadata": {},
   "source": [
    "<h3> Forecating part 2\n"
   ]
  },
  {
   "cell_type": "code",
   "execution_count": 28,
   "metadata": {},
   "outputs": [
    {
     "data": {
      "text/html": [
       "<div>\n",
       "<style scoped>\n",
       "    .dataframe tbody tr th:only-of-type {\n",
       "        vertical-align: middle;\n",
       "    }\n",
       "\n",
       "    .dataframe tbody tr th {\n",
       "        vertical-align: top;\n",
       "    }\n",
       "\n",
       "    .dataframe thead th {\n",
       "        text-align: right;\n",
       "    }\n",
       "</style>\n",
       "<table border=\"1\" class=\"dataframe\">\n",
       "  <thead>\n",
       "    <tr style=\"text-align: right;\">\n",
       "      <th></th>\n",
       "      <th>referencetime</th>\n",
       "      <th>avgadultfemalelice</th>\n",
       "      <th>avgmobilelice</th>\n",
       "      <th>avgstationarylice</th>\n",
       "      <th>localityname</th>\n",
       "      <th>mean_air_temperature</th>\n",
       "      <th>mean_relative_humidity</th>\n",
       "      <th>mean_wind_speed</th>\n",
       "      <th>seatemperature</th>\n",
       "      <th>sum_precipitation_amount</th>\n",
       "    </tr>\n",
       "  </thead>\n",
       "  <tbody>\n",
       "    <tr>\n",
       "      <th>0</th>\n",
       "      <td>2021-05-23</td>\n",
       "      <td>0.07</td>\n",
       "      <td>0.16</td>\n",
       "      <td>0.02</td>\n",
       "      <td>Andholmen 1</td>\n",
       "      <td>8.485714</td>\n",
       "      <td>87.142857</td>\n",
       "      <td>5.257143</td>\n",
       "      <td>8.3</td>\n",
       "      <td>14.1</td>\n",
       "    </tr>\n",
       "    <tr>\n",
       "      <th>1</th>\n",
       "      <td>2021-10-17</td>\n",
       "      <td>0.38</td>\n",
       "      <td>0.68</td>\n",
       "      <td>0.06</td>\n",
       "      <td>Andholmen 1</td>\n",
       "      <td>8.378571</td>\n",
       "      <td>80.285714</td>\n",
       "      <td>9.800000</td>\n",
       "      <td>11.7</td>\n",
       "      <td>133.0</td>\n",
       "    </tr>\n",
       "    <tr>\n",
       "      <th>2</th>\n",
       "      <td>2021-10-31</td>\n",
       "      <td>0.44</td>\n",
       "      <td>0.65</td>\n",
       "      <td>0.06</td>\n",
       "      <td>Andholmen 1</td>\n",
       "      <td>10.671429</td>\n",
       "      <td>88.571429</td>\n",
       "      <td>7.442857</td>\n",
       "      <td>11.0</td>\n",
       "      <td>39.8</td>\n",
       "    </tr>\n",
       "    <tr>\n",
       "      <th>3</th>\n",
       "      <td>2021-06-27</td>\n",
       "      <td>0.11</td>\n",
       "      <td>0.22</td>\n",
       "      <td>0.01</td>\n",
       "      <td>Andholmen 1</td>\n",
       "      <td>11.442857</td>\n",
       "      <td>87.285714</td>\n",
       "      <td>6.128571</td>\n",
       "      <td>11.8</td>\n",
       "      <td>8.2</td>\n",
       "    </tr>\n",
       "    <tr>\n",
       "      <th>4</th>\n",
       "      <td>2021-09-26</td>\n",
       "      <td>0.86</td>\n",
       "      <td>1.91</td>\n",
       "      <td>0.05</td>\n",
       "      <td>Andholmen 1</td>\n",
       "      <td>11.607143</td>\n",
       "      <td>89.571429</td>\n",
       "      <td>8.600000</td>\n",
       "      <td>12.3</td>\n",
       "      <td>56.7</td>\n",
       "    </tr>\n",
       "  </tbody>\n",
       "</table>\n",
       "</div>"
      ],
      "text/plain": [
       "  referencetime  avgadultfemalelice  avgmobilelice  avgstationarylice  \\\n",
       "0    2021-05-23                0.07           0.16               0.02   \n",
       "1    2021-10-17                0.38           0.68               0.06   \n",
       "2    2021-10-31                0.44           0.65               0.06   \n",
       "3    2021-06-27                0.11           0.22               0.01   \n",
       "4    2021-09-26                0.86           1.91               0.05   \n",
       "\n",
       "  localityname  mean_air_temperature  mean_relative_humidity  mean_wind_speed  \\\n",
       "0  Andholmen 1              8.485714               87.142857         5.257143   \n",
       "1  Andholmen 1              8.378571               80.285714         9.800000   \n",
       "2  Andholmen 1             10.671429               88.571429         7.442857   \n",
       "3  Andholmen 1             11.442857               87.285714         6.128571   \n",
       "4  Andholmen 1             11.607143               89.571429         8.600000   \n",
       "\n",
       "   seatemperature  sum_precipitation_amount  \n",
       "0             8.3                      14.1  \n",
       "1            11.7                     133.0  \n",
       "2            11.0                      39.8  \n",
       "3            11.8                       8.2  \n",
       "4            12.3                      56.7  "
      ]
     },
     "execution_count": 28,
     "metadata": {},
     "output_type": "execute_result"
    }
   ],
   "source": [
    "# get combine_df from Cassandra\n",
    "df_sync = spark.read.format(\"org.apache.spark.sql.cassandra\").options(table=\"combine_table\", keyspace=\"fish_keyspace\").load()\n",
    "\n",
    "# make spark dataframe to pandas dataframe\n",
    "df_sync = df_sync.toPandas()\n",
    "df_sync.head()\n"
   ]
  },
  {
   "cell_type": "code",
   "execution_count": 29,
   "metadata": {},
   "outputs": [],
   "source": [
    "# drop the following columns: localityname\n",
    "df_sync = df_sync.drop(['localityname'], axis=1)"
   ]
  },
  {
   "cell_type": "code",
   "execution_count": 30,
   "metadata": {},
   "outputs": [],
   "source": [
    "df_sync['referencetime'] = pd.to_datetime(df_sync['referencetime'])\n",
    "\n",
    "df_sync.index = df_sync['referencetime']\n",
    "\n",
    "df_sync = df_sync.asfreq('W')\n",
    "\n",
    "# drop the following columns: referencetime\n",
    "df_sync = df_sync.drop(['referencetime'], axis=1)\n",
    "\n",
    "#Sort the values in df_sync by referencetime\n",
    "df_sync = df_sync.sort_values(by='referencetime')"
   ]
  },
  {
   "cell_type": "code",
   "execution_count": 31,
   "metadata": {},
   "outputs": [
    {
     "data": {
      "text/html": [
       "<div>\n",
       "<style scoped>\n",
       "    .dataframe tbody tr th:only-of-type {\n",
       "        vertical-align: middle;\n",
       "    }\n",
       "\n",
       "    .dataframe tbody tr th {\n",
       "        vertical-align: top;\n",
       "    }\n",
       "\n",
       "    .dataframe thead th {\n",
       "        text-align: right;\n",
       "    }\n",
       "</style>\n",
       "<table border=\"1\" class=\"dataframe\">\n",
       "  <thead>\n",
       "    <tr style=\"text-align: right;\">\n",
       "      <th></th>\n",
       "      <th>avgadultfemalelice</th>\n",
       "      <th>avgmobilelice</th>\n",
       "      <th>avgstationarylice</th>\n",
       "      <th>mean_air_temperature</th>\n",
       "      <th>mean_relative_humidity</th>\n",
       "      <th>mean_wind_speed</th>\n",
       "      <th>seatemperature</th>\n",
       "      <th>sum_precipitation_amount</th>\n",
       "      <th>avgadultfemalelice_lag</th>\n",
       "      <th>avgmobilelice_lag</th>\n",
       "      <th>avgstationarylice_lag</th>\n",
       "      <th>seatemperature_lag</th>\n",
       "      <th>mean_air_temperature_lag</th>\n",
       "      <th>mean_wind_speed_lag</th>\n",
       "      <th>mean_relative_humidity_lag</th>\n",
       "      <th>sum_precipitation_amount_lag</th>\n",
       "    </tr>\n",
       "    <tr>\n",
       "      <th>referencetime</th>\n",
       "      <th></th>\n",
       "      <th></th>\n",
       "      <th></th>\n",
       "      <th></th>\n",
       "      <th></th>\n",
       "      <th></th>\n",
       "      <th></th>\n",
       "      <th></th>\n",
       "      <th></th>\n",
       "      <th></th>\n",
       "      <th></th>\n",
       "      <th></th>\n",
       "      <th></th>\n",
       "      <th></th>\n",
       "      <th></th>\n",
       "      <th></th>\n",
       "    </tr>\n",
       "  </thead>\n",
       "  <tbody>\n",
       "    <tr>\n",
       "      <th>2021-01-10</th>\n",
       "      <td>0.06</td>\n",
       "      <td>0.11</td>\n",
       "      <td>0.00</td>\n",
       "      <td>1.835714</td>\n",
       "      <td>76.428571</td>\n",
       "      <td>5.985714</td>\n",
       "      <td>6.9</td>\n",
       "      <td>8.4</td>\n",
       "      <td>0.06</td>\n",
       "      <td>0.11</td>\n",
       "      <td>0.00</td>\n",
       "      <td>6.9</td>\n",
       "      <td>1.835714</td>\n",
       "      <td>5.985714</td>\n",
       "      <td>76.428571</td>\n",
       "      <td>8.4</td>\n",
       "    </tr>\n",
       "    <tr>\n",
       "      <th>2021-01-17</th>\n",
       "      <td>0.00</td>\n",
       "      <td>0.10</td>\n",
       "      <td>0.08</td>\n",
       "      <td>-0.342857</td>\n",
       "      <td>78.000000</td>\n",
       "      <td>4.728571</td>\n",
       "      <td>6.0</td>\n",
       "      <td>16.6</td>\n",
       "      <td>0.06</td>\n",
       "      <td>0.11</td>\n",
       "      <td>0.00</td>\n",
       "      <td>6.9</td>\n",
       "      <td>1.835714</td>\n",
       "      <td>5.985714</td>\n",
       "      <td>76.428571</td>\n",
       "      <td>8.4</td>\n",
       "    </tr>\n",
       "    <tr>\n",
       "      <th>2021-01-24</th>\n",
       "      <td>0.01</td>\n",
       "      <td>0.22</td>\n",
       "      <td>0.22</td>\n",
       "      <td>3.657143</td>\n",
       "      <td>73.714286</td>\n",
       "      <td>5.714286</td>\n",
       "      <td>5.9</td>\n",
       "      <td>25.0</td>\n",
       "      <td>0.00</td>\n",
       "      <td>0.10</td>\n",
       "      <td>0.08</td>\n",
       "      <td>6.0</td>\n",
       "      <td>-0.342857</td>\n",
       "      <td>4.728571</td>\n",
       "      <td>78.000000</td>\n",
       "      <td>16.6</td>\n",
       "    </tr>\n",
       "    <tr>\n",
       "      <th>2021-01-31</th>\n",
       "      <td>0.02</td>\n",
       "      <td>0.62</td>\n",
       "      <td>0.12</td>\n",
       "      <td>2.471429</td>\n",
       "      <td>79.285714</td>\n",
       "      <td>8.928571</td>\n",
       "      <td>5.5</td>\n",
       "      <td>50.6</td>\n",
       "      <td>0.01</td>\n",
       "      <td>0.22</td>\n",
       "      <td>0.22</td>\n",
       "      <td>5.9</td>\n",
       "      <td>3.657143</td>\n",
       "      <td>5.714286</td>\n",
       "      <td>73.714286</td>\n",
       "      <td>25.0</td>\n",
       "    </tr>\n",
       "    <tr>\n",
       "      <th>2021-02-07</th>\n",
       "      <td>0.02</td>\n",
       "      <td>0.91</td>\n",
       "      <td>0.06</td>\n",
       "      <td>-1.821429</td>\n",
       "      <td>65.857143</td>\n",
       "      <td>5.014286</td>\n",
       "      <td>5.1</td>\n",
       "      <td>3.5</td>\n",
       "      <td>0.02</td>\n",
       "      <td>0.62</td>\n",
       "      <td>0.12</td>\n",
       "      <td>5.5</td>\n",
       "      <td>2.471429</td>\n",
       "      <td>8.928571</td>\n",
       "      <td>79.285714</td>\n",
       "      <td>50.6</td>\n",
       "    </tr>\n",
       "  </tbody>\n",
       "</table>\n",
       "</div>"
      ],
      "text/plain": [
       "               avgadultfemalelice  avgmobilelice  avgstationarylice  \\\n",
       "referencetime                                                         \n",
       "2021-01-10                   0.06           0.11               0.00   \n",
       "2021-01-17                   0.00           0.10               0.08   \n",
       "2021-01-24                   0.01           0.22               0.22   \n",
       "2021-01-31                   0.02           0.62               0.12   \n",
       "2021-02-07                   0.02           0.91               0.06   \n",
       "\n",
       "               mean_air_temperature  mean_relative_humidity  mean_wind_speed  \\\n",
       "referencetime                                                                  \n",
       "2021-01-10                 1.835714               76.428571         5.985714   \n",
       "2021-01-17                -0.342857               78.000000         4.728571   \n",
       "2021-01-24                 3.657143               73.714286         5.714286   \n",
       "2021-01-31                 2.471429               79.285714         8.928571   \n",
       "2021-02-07                -1.821429               65.857143         5.014286   \n",
       "\n",
       "               seatemperature  sum_precipitation_amount  \\\n",
       "referencetime                                             \n",
       "2021-01-10                6.9                       8.4   \n",
       "2021-01-17                6.0                      16.6   \n",
       "2021-01-24                5.9                      25.0   \n",
       "2021-01-31                5.5                      50.6   \n",
       "2021-02-07                5.1                       3.5   \n",
       "\n",
       "               avgadultfemalelice_lag  avgmobilelice_lag  \\\n",
       "referencetime                                              \n",
       "2021-01-10                       0.06               0.11   \n",
       "2021-01-17                       0.06               0.11   \n",
       "2021-01-24                       0.00               0.10   \n",
       "2021-01-31                       0.01               0.22   \n",
       "2021-02-07                       0.02               0.62   \n",
       "\n",
       "               avgstationarylice_lag  seatemperature_lag  \\\n",
       "referencetime                                              \n",
       "2021-01-10                      0.00                 6.9   \n",
       "2021-01-17                      0.00                 6.9   \n",
       "2021-01-24                      0.08                 6.0   \n",
       "2021-01-31                      0.22                 5.9   \n",
       "2021-02-07                      0.12                 5.5   \n",
       "\n",
       "               mean_air_temperature_lag  mean_wind_speed_lag  \\\n",
       "referencetime                                                  \n",
       "2021-01-10                     1.835714             5.985714   \n",
       "2021-01-17                     1.835714             5.985714   \n",
       "2021-01-24                    -0.342857             4.728571   \n",
       "2021-01-31                     3.657143             5.714286   \n",
       "2021-02-07                     2.471429             8.928571   \n",
       "\n",
       "               mean_relative_humidity_lag  sum_precipitation_amount_lag  \n",
       "referencetime                                                            \n",
       "2021-01-10                      76.428571                           8.4  \n",
       "2021-01-17                      76.428571                           8.4  \n",
       "2021-01-24                      78.000000                          16.6  \n",
       "2021-01-31                      73.714286                          25.0  \n",
       "2021-02-07                      79.285714                          50.6  "
      ]
     },
     "execution_count": 31,
     "metadata": {},
     "output_type": "execute_result"
    }
   ],
   "source": [
    "# Make a bfill lag of one time step for each column except for referencetime\n",
    "\n",
    "df_sync['avgadultfemalelice_lag'] = df_sync['avgadultfemalelice'].shift(1).bfill()\n",
    "df_sync['avgmobilelice_lag'] = df_sync['avgmobilelice'].shift(1).bfill()\n",
    "df_sync['avgstationarylice_lag'] = df_sync['avgstationarylice'].shift(1).bfill()\n",
    "df_sync['seatemperature_lag'] = df_sync['seatemperature'].shift(1).bfill()\n",
    "df_sync['mean_air_temperature_lag'] = df_sync['mean_air_temperature'].shift(1).bfill()\n",
    "df_sync['mean_wind_speed_lag'] = df_sync['mean_wind_speed'].shift(1).bfill()\n",
    "df_sync['mean_relative_humidity_lag'] = df_sync['mean_relative_humidity'].shift(1).bfill()\n",
    "df_sync['sum_precipitation_amount_lag'] = df_sync['sum_precipitation_amount'].shift(1).bfill()\n",
    "\n",
    "\n",
    "df_sync.head()"
   ]
  },
  {
   "cell_type": "code",
   "execution_count": 32,
   "metadata": {},
   "outputs": [
    {
     "name": "stdout",
     "output_type": "stream",
     "text": [
      "                               SARIMAX Results                                \n",
      "==============================================================================\n",
      "Dep. Variable:         seatemperature   No. Observations:                   51\n",
      "Model:               SARIMAX(1, 1, 1)   Log Likelihood                 -33.674\n",
      "Date:                Mon, 20 Nov 2023   AIC                             89.349\n",
      "Time:                        13:01:19   BIC                            110.381\n",
      "Sample:                    01-10-2021   HQIC                            97.358\n",
      "                         - 12-26-2021                                         \n",
      "Covariance Type:                  opg                                         \n",
      "============================================================================================\n",
      "                               coef    std err          z      P>|z|      [0.025      0.975]\n",
      "--------------------------------------------------------------------------------------------\n",
      "intercept                   -0.0039      0.032     -0.121      0.904      -0.067       0.059\n",
      "avgadultfemalelice          -0.1977      0.641     -0.308      0.758      -1.454       1.059\n",
      "avgmobilelice               -0.0121      0.218     -0.055      0.956      -0.439       0.415\n",
      "avgstationarylice            1.5083      1.002      1.505      0.132      -0.456       3.472\n",
      "mean_air_temperature         0.0677      0.041      1.649      0.099      -0.013       0.148\n",
      "mean_relative_humidity      -0.0024      0.013     -0.188      0.851      -0.027       0.022\n",
      "mean_wind_speed              0.0181      0.026      0.699      0.485      -0.033       0.069\n",
      "sum_precipitation_amount     0.0037      0.003      1.378      0.168      -0.002       0.009\n",
      "ar.L1                        0.8710      0.113      7.683      0.000       0.649       1.093\n",
      "ma.L1                       -0.5321      0.258     -2.060      0.039      -1.038      -0.026\n",
      "sigma2                       0.2228      0.068      3.293      0.001       0.090       0.355\n",
      "===================================================================================\n",
      "Ljung-Box (L1) (Q):                   0.02   Jarque-Bera (JB):                 0.84\n",
      "Prob(Q):                              0.88   Prob(JB):                         0.66\n",
      "Heteroskedasticity (H):               1.75   Skew:                             0.03\n",
      "Prob(H) (two-sided):                  0.26   Kurtosis:                         2.37\n",
      "===================================================================================\n",
      "\n",
      "Warnings:\n",
      "[1] Covariance matrix calculated using the outer product of gradients (complex-step).\n"
     ]
    },
    {
     "name": "stderr",
     "output_type": "stream",
     "text": [
      "c:\\Users\\dinus\\anaconda3\\envs\\IND320\\Lib\\site-packages\\statsmodels\\base\\model.py:607: ConvergenceWarning: Maximum Likelihood optimization failed to converge. Check mle_retvals\n",
      "  warnings.warn(\"Maximum Likelihood optimization failed to \"\n"
     ]
    }
   ],
   "source": [
    "import statsmodels.api as sm\n",
    "\n",
    "# SARIMAX model \n",
    "mod = sm.tsa.statespace.SARIMAX(df_sync['seatemperature'], df_sync[[\"avgadultfemalelice\", \"avgmobilelice\", \"avgstationarylice\", \"mean_air_temperature\", \"mean_relative_humidity\", \"mean_wind_speed\", \"sum_precipitation_amount\"]],\\\n",
    "    order=(1, 1, 1), seasonal_order=(0, 0, 0, 52), trend='c')\n",
    "res = mod.fit(disp=False)\n",
    "print(res.summary())"
   ]
  },
  {
   "cell_type": "code",
   "execution_count": 33,
   "metadata": {},
   "outputs": [
    {
     "name": "stdout",
     "output_type": "stream",
     "text": [
      "                               SARIMAX Results                                \n",
      "==============================================================================\n",
      "Dep. Variable:         seatemperature   No. Observations:                   51\n",
      "Model:               SARIMAX(1, 1, 1)   Log Likelihood                 -17.992\n",
      "Date:                Mon, 20 Nov 2023   AIC                             71.984\n",
      "Time:                        13:01:21   BIC                            106.400\n",
      "Sample:                    01-10-2021   HQIC                            85.090\n",
      "                         - 12-26-2021                                         \n",
      "Covariance Type:                  opg                                         \n",
      "================================================================================================\n",
      "                                   coef    std err          z      P>|z|      [0.025      0.975]\n",
      "------------------------------------------------------------------------------------------------\n",
      "intercept                       -0.0085      0.021     -0.398      0.691      -0.050       0.033\n",
      "avgadultfemalelice              -0.9870      0.565     -1.748      0.080      -2.093       0.119\n",
      "avgmobilelice                    0.3544      0.259      1.368      0.171      -0.153       0.862\n",
      "avgstationarylice               -0.1014      1.161     -0.087      0.930      -2.377       2.174\n",
      "mean_air_temperature             0.1357      0.040      3.379      0.001       0.057       0.214\n",
      "mean_relative_humidity          -0.0111      0.014     -0.800      0.424      -0.038       0.016\n",
      "mean_wind_speed                  0.0079      0.032      0.248      0.804      -0.055       0.071\n",
      "sum_precipitation_amount         0.0051      0.003      1.626      0.104      -0.001       0.011\n",
      "avgmobilelice_lag                0.5429      0.221      2.457      0.014       0.110       0.976\n",
      "avgadultfemalelice_lag          -1.2222      0.970     -1.260      0.208      -3.123       0.678\n",
      "avgstationarylice_lag           -3.0645      1.315     -2.331      0.020      -5.641      -0.488\n",
      "mean_air_temperature_lag         0.1543      0.041      3.761      0.000       0.074       0.235\n",
      "mean_wind_speed_lag             -0.0168      0.042     -0.401      0.688      -0.099       0.065\n",
      "mean_relative_humidity_lag       0.0051      0.014      0.353      0.724      -0.023       0.033\n",
      "sum_precipitation_amount_lag     0.0031      0.003      1.178      0.239      -0.002       0.008\n",
      "ar.L1                            0.9049      0.106      8.525      0.000       0.697       1.113\n",
      "ma.L1                           -0.6395      0.223     -2.872      0.004      -1.076      -0.203\n",
      "sigma2                           0.1170      0.037      3.130      0.002       0.044       0.190\n",
      "===================================================================================\n",
      "Ljung-Box (L1) (Q):                   0.99   Jarque-Bera (JB):                 3.64\n",
      "Prob(Q):                              0.32   Prob(JB):                         0.16\n",
      "Heteroskedasticity (H):               0.49   Skew:                            -0.58\n",
      "Prob(H) (two-sided):                  0.15   Kurtosis:                         3.62\n",
      "===================================================================================\n",
      "\n",
      "Warnings:\n",
      "[1] Covariance matrix calculated using the outer product of gradients (complex-step).\n"
     ]
    },
    {
     "name": "stderr",
     "output_type": "stream",
     "text": [
      "c:\\Users\\dinus\\anaconda3\\envs\\IND320\\Lib\\site-packages\\statsmodels\\base\\model.py:607: ConvergenceWarning: Maximum Likelihood optimization failed to converge. Check mle_retvals\n",
      "  warnings.warn(\"Maximum Likelihood optimization failed to \"\n"
     ]
    }
   ],
   "source": [
    "# SARIMAX model again with lagged variables\n",
    "\n",
    "mod = sm.tsa.statespace.SARIMAX(df_sync['seatemperature'],\\\n",
    "    df_sync[[\"avgadultfemalelice\", \"avgmobilelice\", \"avgstationarylice\", \"mean_air_temperature\", \"mean_relative_humidity\", \"mean_wind_speed\", \"sum_precipitation_amount\", \"avgmobilelice_lag\", \"avgadultfemalelice_lag\", \"avgstationarylice_lag\",\"mean_air_temperature_lag\",\"mean_wind_speed_lag\",\"mean_relative_humidity_lag\", \"sum_precipitation_amount_lag\"]],\\\n",
    "    order=(1, 1, 1), seasonal_order=(0, 0, 0, 52), trend='c')\n",
    "res = mod.fit(disp=False)\n",
    "print(res.summary())"
   ]
  },
  {
   "cell_type": "code",
   "execution_count": 34,
   "metadata": {},
   "outputs": [
    {
     "name": "stderr",
     "output_type": "stream",
     "text": [
      "c:\\Users\\dinus\\anaconda3\\envs\\IND320\\Lib\\site-packages\\statsmodels\\tsa\\statespace\\sarimax.py:966: UserWarning: Non-stationary starting autoregressive parameters found. Using zeros as starting parameters.\n",
      "  warn('Non-stationary starting autoregressive parameters'\n",
      "c:\\Users\\dinus\\anaconda3\\envs\\IND320\\Lib\\site-packages\\statsmodels\\tsa\\statespace\\sarimax.py:978: UserWarning: Non-invertible starting MA parameters found. Using zeros as starting parameters.\n",
      "  warn('Non-invertible starting MA parameters found.'\n"
     ]
    },
    {
     "name": "stdout",
     "output_type": "stream",
     "text": [
      "                               SARIMAX Results                                \n",
      "==============================================================================\n",
      "Dep. Variable:         seatemperature   No. Observations:                   51\n",
      "Model:               SARIMAX(1, 1, 1)   Log Likelihood                 -29.048\n",
      "Date:                Mon, 20 Nov 2023   AIC                             76.096\n",
      "Time:                        13:01:21   BIC                             93.304\n",
      "Sample:                    01-10-2021   HQIC                            82.649\n",
      "                         - 12-26-2021                                         \n",
      "Covariance Type:                  opg                                         \n",
      "==============================================================================================\n",
      "                                 coef    std err          z      P>|z|      [0.025      0.975]\n",
      "----------------------------------------------------------------------------------------------\n",
      "intercept                     -0.0069      0.017     -0.408      0.683      -0.040       0.026\n",
      "avgmobilelice                  0.0863      0.169      0.512      0.609      -0.244       0.417\n",
      "mean_air_temperature           0.1114      0.038      2.911      0.004       0.036       0.186\n",
      "mean_relative_humidity     -5.844e-05      0.018     -0.003      0.997      -0.035       0.035\n",
      "mean_air_temperature_lag       0.1338      0.037      3.586      0.000       0.061       0.207\n",
      "mean_relative_humidity_lag     0.0052      0.014      0.378      0.705      -0.022       0.032\n",
      "ar.L1                          0.9047      0.107      8.477      0.000       0.696       1.114\n",
      "ma.L1                         -0.7038      0.196     -3.597      0.000      -1.087      -0.320\n",
      "sigma2                         0.1854      0.047      3.916      0.000       0.093       0.278\n",
      "===================================================================================\n",
      "Ljung-Box (L1) (Q):                   0.91   Jarque-Bera (JB):                 0.08\n",
      "Prob(Q):                              0.34   Prob(JB):                         0.96\n",
      "Heteroskedasticity (H):               0.48   Skew:                             0.01\n",
      "Prob(H) (two-sided):                  0.14   Kurtosis:                         3.20\n",
      "===================================================================================\n",
      "\n",
      "Warnings:\n",
      "[1] Covariance matrix calculated using the outer product of gradients (complex-step).\n"
     ]
    },
    {
     "name": "stderr",
     "output_type": "stream",
     "text": [
      "c:\\Users\\dinus\\anaconda3\\envs\\IND320\\Lib\\site-packages\\statsmodels\\base\\model.py:607: ConvergenceWarning: Maximum Likelihood optimization failed to converge. Check mle_retvals\n",
      "  warnings.warn(\"Maximum Likelihood optimization failed to \"\n"
     ]
    }
   ],
   "source": [
    "# removed everything above 0.4 in P>|z| and rerun the model\n",
    "mod = sm.tsa.statespace.SARIMAX(df_sync['seatemperature'],\\\n",
    "    df_sync[[ \"avgmobilelice\", \"mean_air_temperature\", \"mean_relative_humidity\",\"mean_air_temperature_lag\",\"mean_relative_humidity_lag\"]],\\\n",
    "    order=(1, 1, 1), seasonal_order=(0, 0, 0, 52), trend='c')\n",
    "res = mod.fit(disp=False)\n",
    "print(res.summary())\n",
    "\n",
    "# this gave better AIC values"
   ]
  }
 ],
 "metadata": {
  "kernelspec": {
   "display_name": "IND320",
   "language": "python",
   "name": "python3"
  },
  "language_info": {
   "codemirror_mode": {
    "name": "ipython",
    "version": 3
   },
   "file_extension": ".py",
   "mimetype": "text/x-python",
   "name": "python",
   "nbconvert_exporter": "python",
   "pygments_lexer": "ipython3",
   "version": "3.11.4"
  }
 },
 "nbformat": 4,
 "nbformat_minor": 2
}
